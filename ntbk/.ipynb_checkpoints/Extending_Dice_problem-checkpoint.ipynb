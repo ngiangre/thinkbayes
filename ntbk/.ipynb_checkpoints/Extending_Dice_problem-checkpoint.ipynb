{
 "cells": [
  {
   "cell_type": "markdown",
   "metadata": {},
   "source": [
    "# Extending the Dice problem\n",
    "\n",
    "In this notebook, I extend the dice problem presented in _Think Bayes_ by Allen Downey. "
   ]
  },
  {
   "cell_type": "code",
   "execution_count": 3,
   "metadata": {
    "collapsed": false
   },
   "outputs": [],
   "source": [
    "import matplotlib.pyplot as plt\n",
    "import pandas as pd\n",
    "import numpy as np\n",
    "np.set_printoptions(precision=3)\n",
    "import itertools as it"
   ]
  },
  {
   "cell_type": "markdown",
   "metadata": {},
   "source": [
    "## The dice problem"
   ]
  },
  {
   "cell_type": "markdown",
   "metadata": {},
   "source": [
    "In the Dice walkthrough, I computed the posterior probability of rolling a 6. \n",
    "\n",
    "(Note: to represent a random variable that can take on any number value, I use N).\n",
    "\n",
    "I first represented the probability of rolling any of N-sided die in a box of die that contains a 4-sided die, a 6-sided due, a 8-sided die, a 12-sided die, and a 20-sided die. \n",
    "\n",
    "In the scenario, I selected a die from the box at random, rolled it, and got a 6. The posterior probability calculated was given my 5 available hypotheses, what is their probability given I rolled a 6?\n",
    "\n",
    "### Extending Question\n",
    "\n",
    "What if I have N hypotheses. What if I have N data. What are the posterior probabilities of the n hypotheses given the n data?\n",
    "\n",
    "<hr>\n",
    "\n",
    "The approach is to define my hypotheses, my data, and likelihood function.\n",
    "\n",
    "#### Hypotheses\n",
    "\n",
    "Let's say I have a box of N-sided die. \n",
    "\n",
    "We initially assume that there's an equally likely chance of rolling each of the N-sided die. \n",
    "\n",
    "This initial assumption is called our **prior**. Because each of hypotheses are equally likely, each has a probability of 1 / N chance of being rolled."
   ]
  },
  {
   "cell_type": "code",
   "execution_count": 14,
   "metadata": {
    "collapsed": false
   },
   "outputs": [
    {
     "name": "stdout",
     "output_type": "stream",
     "text": [
      "    H      P(H)\n",
      "0   2  0.111111\n",
      "1   4  0.111111\n",
      "2   6  0.111111\n",
      "3   8  0.111111\n",
      "4  10  0.111111\n",
      "5  12  0.111111\n",
      "6  14  0.111111\n",
      "7  16  0.111111\n",
      "8  18  0.111111\n"
     ]
    }
   ],
   "source": [
    "start = 2\n",
    "stop = 20\n",
    "iterate = 2\n",
    "hypos = [h for h in xrange(start, stop, iterate)]\n",
    "\n",
    "priors = np.repeat(1.0/len(hypos),len(hypos))\n",
    "    \n",
    "print pd.DataFrame({'H' : hypos,\n",
    "                'P(H)' : priors},\n",
    "                columns=['H',\"P(H)\"]\n",
    ")"
   ]
  },
  {
   "cell_type": "markdown",
   "metadata": {},
   "source": [
    "Above, we have defined our hypotheses or N-sided die in our box of die. I just set that to a range of values, every 2 in 2 through 20. From that, I computed the prior probability of each die. We decided each die is equally likely, so it's just 1/N where N is the value in N-sided die. The important point here, which is where the extension comes from, is that I generalized the process so all that follows is based on this generalized set up. In other words, we can change the initial set up and the computations to follow will change accordingly. This means we are one step closer to adapting this methodology to other problems, which is the goal of these notebooks. \n",
    "\n",
    "<hr>\n",
    "\n",
    "Our data can be generalized too. Our data is the outcomes of N rolls of the die. "
   ]
  },
  {
   "cell_type": "code",
   "execution_count": 16,
   "metadata": {
    "collapsed": false
   },
   "outputs": [
    {
     "data": {
      "text/plain": [
       "[1, 2, 3, 4, 5, 6, 7, 8, 9, 10, 11, 12, 13, 14, 15, 16, 17, 18, 19, 20]"
      ]
     },
     "execution_count": 16,
     "metadata": {},
     "output_type": "execute_result"
    }
   ],
   "source": [
    "data = np.arange(1,21).tolist()\n",
    "data"
   ]
  },
  {
   "cell_type": "markdown",
   "metadata": {},
   "source": [
    "Let's make a dataframe that puts our hypotheses, priors and data all together. "
   ]
  },
  {
   "cell_type": "code",
   "execution_count": 21,
   "metadata": {
    "collapsed": false
   },
   "outputs": [
    {
     "name": "stdout",
     "output_type": "stream",
     "text": [
      "(1620, 3)\n"
     ]
    },
    {
     "data": {
      "text/html": [
       "<div>\n",
       "<style>\n",
       "    .dataframe thead tr:only-child th {\n",
       "        text-align: right;\n",
       "    }\n",
       "\n",
       "    .dataframe thead th {\n",
       "        text-align: left;\n",
       "    }\n",
       "\n",
       "    .dataframe tbody tr th {\n",
       "        vertical-align: top;\n",
       "    }\n",
       "</style>\n",
       "<table border=\"1\" class=\"dataframe\">\n",
       "  <thead>\n",
       "    <tr style=\"text-align: right;\">\n",
       "      <th></th>\n",
       "      <th>H</th>\n",
       "      <th>P(H)</th>\n",
       "      <th>D</th>\n",
       "    </tr>\n",
       "  </thead>\n",
       "  <tbody>\n",
       "    <tr>\n",
       "      <th>0</th>\n",
       "      <td>2</td>\n",
       "      <td>0.111111</td>\n",
       "      <td>1</td>\n",
       "    </tr>\n",
       "    <tr>\n",
       "      <th>1</th>\n",
       "      <td>2</td>\n",
       "      <td>0.111111</td>\n",
       "      <td>2</td>\n",
       "    </tr>\n",
       "    <tr>\n",
       "      <th>2</th>\n",
       "      <td>2</td>\n",
       "      <td>0.111111</td>\n",
       "      <td>3</td>\n",
       "    </tr>\n",
       "    <tr>\n",
       "      <th>3</th>\n",
       "      <td>2</td>\n",
       "      <td>0.111111</td>\n",
       "      <td>4</td>\n",
       "    </tr>\n",
       "    <tr>\n",
       "      <th>4</th>\n",
       "      <td>2</td>\n",
       "      <td>0.111111</td>\n",
       "      <td>5</td>\n",
       "    </tr>\n",
       "  </tbody>\n",
       "</table>\n",
       "</div>"
      ],
      "text/plain": [
       "   H      P(H)  D\n",
       "0  2  0.111111  1\n",
       "1  2  0.111111  2\n",
       "2  2  0.111111  3\n",
       "3  2  0.111111  4\n",
       "4  2  0.111111  5"
      ]
     },
     "execution_count": 21,
     "metadata": {},
     "output_type": "execute_result"
    }
   ],
   "source": [
    "lstoflsts = []\n",
    "\n",
    "for hypo in hypos:\n",
    "    for prior in priors:\n",
    "        for d in data:\n",
    "            lst = [hypo,prior,d]\n",
    "            lstoflsts.append(lst)\n",
    "            \n",
    "df = pd.DataFrame(lstoflsts,columns=['H','P(H)','D'])\n",
    "print df.shape\n",
    "df.head()"
   ]
  },
  {
   "cell_type": "markdown",
   "metadata": {},
   "source": [
    "I can also calculate the probability of my data, which is just 1/N where N is the length of my data. I'll add this to our dataframe."
   ]
  },
  {
   "cell_type": "code",
   "execution_count": 25,
   "metadata": {
    "collapsed": false
   },
   "outputs": [
    {
     "data": {
      "text/html": [
       "<div>\n",
       "<style>\n",
       "    .dataframe thead tr:only-child th {\n",
       "        text-align: right;\n",
       "    }\n",
       "\n",
       "    .dataframe thead th {\n",
       "        text-align: left;\n",
       "    }\n",
       "\n",
       "    .dataframe tbody tr th {\n",
       "        vertical-align: top;\n",
       "    }\n",
       "</style>\n",
       "<table border=\"1\" class=\"dataframe\">\n",
       "  <thead>\n",
       "    <tr style=\"text-align: right;\">\n",
       "      <th></th>\n",
       "      <th>H</th>\n",
       "      <th>P(H)</th>\n",
       "      <th>D</th>\n",
       "      <th>P(D)</th>\n",
       "    </tr>\n",
       "  </thead>\n",
       "  <tbody>\n",
       "    <tr>\n",
       "      <th>0</th>\n",
       "      <td>2</td>\n",
       "      <td>0.111111</td>\n",
       "      <td>1</td>\n",
       "      <td>0.05</td>\n",
       "    </tr>\n",
       "    <tr>\n",
       "      <th>1</th>\n",
       "      <td>2</td>\n",
       "      <td>0.111111</td>\n",
       "      <td>2</td>\n",
       "      <td>0.05</td>\n",
       "    </tr>\n",
       "    <tr>\n",
       "      <th>2</th>\n",
       "      <td>2</td>\n",
       "      <td>0.111111</td>\n",
       "      <td>3</td>\n",
       "      <td>0.05</td>\n",
       "    </tr>\n",
       "    <tr>\n",
       "      <th>3</th>\n",
       "      <td>2</td>\n",
       "      <td>0.111111</td>\n",
       "      <td>4</td>\n",
       "      <td>0.05</td>\n",
       "    </tr>\n",
       "    <tr>\n",
       "      <th>4</th>\n",
       "      <td>2</td>\n",
       "      <td>0.111111</td>\n",
       "      <td>5</td>\n",
       "      <td>0.05</td>\n",
       "    </tr>\n",
       "  </tbody>\n",
       "</table>\n",
       "</div>"
      ],
      "text/plain": [
       "   H      P(H)  D  P(D)\n",
       "0  2  0.111111  1  0.05\n",
       "1  2  0.111111  2  0.05\n",
       "2  2  0.111111  3  0.05\n",
       "3  2  0.111111  4  0.05\n",
       "4  2  0.111111  5  0.05"
      ]
     },
     "execution_count": 25,
     "metadata": {},
     "output_type": "execute_result"
    }
   ],
   "source": [
    "prob_data = np.repeat((1.0 / len(data)),len(df['D']))\n",
    "df['P(D)'] = prob_data\n",
    "df.head()"
   ]
  },
  {
   "cell_type": "markdown",
   "metadata": {},
   "source": [
    "The question is, for the data I've collected, what is the probability of rolling each die?\n",
    "\n",
    "To determine the probability, I need to calculuate the likelihood.\n",
    "\n",
    "The likelihood is just the raw frequency of occurrence of the data for our hypotheses.\n",
    "\n",
    "For example, what's the probability of rolling a 2 with a 4-sided die?\n",
    "\n",
    "Let's add the likelihood of the data given the hypotheses to our dataframe."
   ]
  },
  {
   "cell_type": "code",
   "execution_count": 26,
   "metadata": {
    "collapsed": false
   },
   "outputs": [
    {
     "data": {
      "text/html": [
       "<div>\n",
       "<style>\n",
       "    .dataframe thead tr:only-child th {\n",
       "        text-align: right;\n",
       "    }\n",
       "\n",
       "    .dataframe thead th {\n",
       "        text-align: left;\n",
       "    }\n",
       "\n",
       "    .dataframe tbody tr th {\n",
       "        vertical-align: top;\n",
       "    }\n",
       "</style>\n",
       "<table border=\"1\" class=\"dataframe\">\n",
       "  <thead>\n",
       "    <tr style=\"text-align: right;\">\n",
       "      <th></th>\n",
       "      <th>H</th>\n",
       "      <th>P(H)</th>\n",
       "      <th>D</th>\n",
       "      <th>P(D)</th>\n",
       "      <th>P(D|H)</th>\n",
       "    </tr>\n",
       "  </thead>\n",
       "  <tbody>\n",
       "    <tr>\n",
       "      <th>0</th>\n",
       "      <td>2</td>\n",
       "      <td>0.111111</td>\n",
       "      <td>1</td>\n",
       "      <td>0.05</td>\n",
       "      <td>0.5</td>\n",
       "    </tr>\n",
       "    <tr>\n",
       "      <th>1</th>\n",
       "      <td>2</td>\n",
       "      <td>0.111111</td>\n",
       "      <td>2</td>\n",
       "      <td>0.05</td>\n",
       "      <td>0.5</td>\n",
       "    </tr>\n",
       "    <tr>\n",
       "      <th>2</th>\n",
       "      <td>2</td>\n",
       "      <td>0.111111</td>\n",
       "      <td>3</td>\n",
       "      <td>0.05</td>\n",
       "      <td>0.0</td>\n",
       "    </tr>\n",
       "    <tr>\n",
       "      <th>3</th>\n",
       "      <td>2</td>\n",
       "      <td>0.111111</td>\n",
       "      <td>4</td>\n",
       "      <td>0.05</td>\n",
       "      <td>0.0</td>\n",
       "    </tr>\n",
       "    <tr>\n",
       "      <th>4</th>\n",
       "      <td>2</td>\n",
       "      <td>0.111111</td>\n",
       "      <td>5</td>\n",
       "      <td>0.05</td>\n",
       "      <td>0.0</td>\n",
       "    </tr>\n",
       "  </tbody>\n",
       "</table>\n",
       "</div>"
      ],
      "text/plain": [
       "   H      P(H)  D  P(D)  P(D|H)\n",
       "0  2  0.111111  1  0.05     0.5\n",
       "1  2  0.111111  2  0.05     0.5\n",
       "2  2  0.111111  3  0.05     0.0\n",
       "3  2  0.111111  4  0.05     0.0\n",
       "4  2  0.111111  5  0.05     0.0"
      ]
     },
     "execution_count": 26,
     "metadata": {},
     "output_type": "execute_result"
    }
   ],
   "source": [
    "likelihood = []\n",
    "df2 = df.copy()\n",
    "for i in range(df.shape[0]):\n",
    "    h = df.iloc[i]['H']\n",
    "    d = df.iloc[i]['D']\n",
    "    if h < d:\n",
    "        likelihood.append(0)\n",
    "    if h >= d:\n",
    "        p = df.iloc[i]['P(H)']\n",
    "        likelihood.append(1.0/h)\n",
    "\n",
    "df2['P(D|H)'] = likelihood\n",
    "df2.head()"
   ]
  },
  {
   "cell_type": "markdown",
   "metadata": {},
   "source": [
    "Now we can derive what is the probability of the hypotheses given the data we observe. This is our **posterior**. You can think of this value as an _update_ to our prior. Our prior assigned a probability to each hypothesis being true, but was very generic. Our _posterior_ gives a better value for the hypothesis because it's influenced by what we actually observe."
   ]
  },
  {
   "cell_type": "code",
   "execution_count": 27,
   "metadata": {
    "collapsed": false
   },
   "outputs": [
    {
     "data": {
      "text/html": [
       "<div>\n",
       "<style>\n",
       "    .dataframe thead tr:only-child th {\n",
       "        text-align: right;\n",
       "    }\n",
       "\n",
       "    .dataframe thead th {\n",
       "        text-align: left;\n",
       "    }\n",
       "\n",
       "    .dataframe tbody tr th {\n",
       "        vertical-align: top;\n",
       "    }\n",
       "</style>\n",
       "<table border=\"1\" class=\"dataframe\">\n",
       "  <thead>\n",
       "    <tr style=\"text-align: right;\">\n",
       "      <th></th>\n",
       "      <th>H</th>\n",
       "      <th>P(H)</th>\n",
       "      <th>D</th>\n",
       "      <th>P(D)</th>\n",
       "      <th>P(D|H)</th>\n",
       "      <th>P(H|D)_raw</th>\n",
       "    </tr>\n",
       "  </thead>\n",
       "  <tbody>\n",
       "    <tr>\n",
       "      <th>0</th>\n",
       "      <td>2</td>\n",
       "      <td>0.111111</td>\n",
       "      <td>1</td>\n",
       "      <td>0.05</td>\n",
       "      <td>0.5</td>\n",
       "      <td>0.055556</td>\n",
       "    </tr>\n",
       "    <tr>\n",
       "      <th>1</th>\n",
       "      <td>2</td>\n",
       "      <td>0.111111</td>\n",
       "      <td>2</td>\n",
       "      <td>0.05</td>\n",
       "      <td>0.5</td>\n",
       "      <td>0.055556</td>\n",
       "    </tr>\n",
       "    <tr>\n",
       "      <th>2</th>\n",
       "      <td>2</td>\n",
       "      <td>0.111111</td>\n",
       "      <td>3</td>\n",
       "      <td>0.05</td>\n",
       "      <td>0.0</td>\n",
       "      <td>0.000000</td>\n",
       "    </tr>\n",
       "    <tr>\n",
       "      <th>3</th>\n",
       "      <td>2</td>\n",
       "      <td>0.111111</td>\n",
       "      <td>4</td>\n",
       "      <td>0.05</td>\n",
       "      <td>0.0</td>\n",
       "      <td>0.000000</td>\n",
       "    </tr>\n",
       "    <tr>\n",
       "      <th>4</th>\n",
       "      <td>2</td>\n",
       "      <td>0.111111</td>\n",
       "      <td>5</td>\n",
       "      <td>0.05</td>\n",
       "      <td>0.0</td>\n",
       "      <td>0.000000</td>\n",
       "    </tr>\n",
       "  </tbody>\n",
       "</table>\n",
       "</div>"
      ],
      "text/plain": [
       "   H      P(H)  D  P(D)  P(D|H)  P(H|D)_raw\n",
       "0  2  0.111111  1  0.05     0.5    0.055556\n",
       "1  2  0.111111  2  0.05     0.5    0.055556\n",
       "2  2  0.111111  3  0.05     0.0    0.000000\n",
       "3  2  0.111111  4  0.05     0.0    0.000000\n",
       "4  2  0.111111  5  0.05     0.0    0.000000"
      ]
     },
     "execution_count": 27,
     "metadata": {},
     "output_type": "execute_result"
    }
   ],
   "source": [
    "num = (df2['P(H)'].values * df2['P(D|H)'].values)\n",
    "posterior = num \n",
    "df2['P(H|D)_raw'] = posterior.tolist()\n",
    "df2.head()"
   ]
  },
  {
   "cell_type": "markdown",
   "metadata": {},
   "source": [
    "But like we saw before, the probabilities computed aren't really probabilities yet-they need to be normalized or sum up to one."
   ]
  },
  {
   "cell_type": "code",
   "execution_count": null,
   "metadata": {
    "collapsed": false
   },
   "outputs": [],
   "source": []
  }
 ],
 "metadata": {
  "kernelspec": {
   "display_name": "Python [conda env:py2.7]",
   "language": "python",
   "name": "conda-env-py2.7-py"
  },
  "language_info": {
   "codemirror_mode": {
    "name": "ipython",
    "version": 2
   },
   "file_extension": ".py",
   "mimetype": "text/x-python",
   "name": "python",
   "nbconvert_exporter": "python",
   "pygments_lexer": "ipython2",
   "version": "2.7.13"
  }
 },
 "nbformat": 4,
 "nbformat_minor": 1
}
