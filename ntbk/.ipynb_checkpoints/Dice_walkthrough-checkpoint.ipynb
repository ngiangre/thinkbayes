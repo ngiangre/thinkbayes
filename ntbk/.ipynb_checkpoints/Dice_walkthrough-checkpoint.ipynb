{
 "cells": [
  {
   "cell_type": "markdown",
   "metadata": {},
   "source": [
    "# Walk-through of Dice example in _Think Bayes_\n",
    "\n",
    "In this notebook, I implement the Dice example, or will I roll a 6 if my dice is fair or biased, from the book _Think Bayes_ by Allen Downey. \n",
    "\n",
    "Generally speaking, _Think Bayes_ is an overview of bayesian thinking, learning the concepts through practical programming in python.\n",
    "\n",
    "In addition to implementing his approach as written, I deconstruct the example to make his calculations more transparent.\n",
    "\n",
    "First I have a helper function to import his modules and I import my own modules,"
   ]
  },
  {
   "cell_type": "code",
   "execution_count": 1,
   "metadata": {
    "collapsed": false
   },
   "outputs": [],
   "source": [
    "def import_file(full_path_to_module):\n",
    "    try:\n",
    "        import os\n",
    "        module_dir, module_file = os.path.split(full_path_to_module)\n",
    "        module_name, module_ext = os.path.splitext(module_file)\n",
    "        save_cwd = os.getcwd()\n",
    "        os.chdir(module_dir)\n",
    "        module_obj = __import__(module_name)\n",
    "        module_obj.__file__ = full_path_to_module\n",
    "        globals()[module_name] = module_obj\n",
    "        os.chdir(save_cwd)\n",
    "    except:\n",
    "        raise ImportError\n",
    "\n",
    "import_file('/Users/nickgiangreco/GitHub/thinkbayes/ThinkBayes-master/code/thinkbayes.py')\n",
    "\n",
    "import thinkbayes\n",
    "import numpy as np\n",
    "np.set_printoptions(precision=3)\n",
    "import pandas as pd\n",
    "import_file('/Users/nickgiangreco/GitHub/thinkbayes/ThinkBayes-master/code/dice.py')"
   ]
  },
  {
   "cell_type": "markdown",
   "metadata": {},
   "source": [
    "In the book, the main output for the Dice example is"
   ]
  },
  {
   "cell_type": "code",
   "execution_count": 2,
   "metadata": {
    "collapsed": false
   },
   "outputs": [
    {
     "name": "stdout",
     "output_type": "stream",
     "text": [
      "After one 6\n",
      "4 0.0\n",
      "6 0.392156862745\n",
      "8 0.294117647059\n",
      "12 0.196078431373\n",
      "20 0.117647058824\n",
      "After more rolls\n",
      "4 0.0\n",
      "6 0.0\n",
      "8 0.915845271969\n",
      "12 0.080403425797\n",
      "20 0.00375130223399\n"
     ]
    }
   ],
   "source": [
    "import_file('/Users/nickgiangreco/gmail_dropbox/Dropbox/thinkbayes/ThinkBayes-master/code/dice.py')\n",
    "dice.main()"
   ]
  },
  {
   "cell_type": "markdown",
   "metadata": {},
   "source": [
    "This example from the book shows computing the posterior probability of the type of die given the rolls seen. \n",
    "\n",
    "#### Explanation\n",
    "\n",
    "This example presents what is the probability (the likely chance) of rolling a 6 given hypotheses of having rolled a 4-, 6-, 8-, 12-, or 20-sided die. The example shows the posterior probability after one roll and after more rolls (with, say, rolling an additional 8). Sorry to not mention this until now, the **posterior** probability is an _updated_ measure of probability of a hypothesis after having seen some data that clarifies or kind of helps you discern how likely that hypothesis, in our case rolling an n-sided die, could be true.\n",
    "\n",
    "<hr>\n",
    "\n",
    "The example above is one of the first examples in the book, and is a good introduction to what the posterior is. However, how he computes the posterior is not transparent. I'll break this down step by step.\n",
    "\n",
    "First, we have some hypotheses about our world, which is that there are 5 n-sided die that we could roll. There's no preference in which one we roll, so each is equally likely to be rolled. Below I print a dictionary showing the **prior** probability of rolling each die, since we have no **prior** knowledge of die preference."
   ]
  },
  {
   "cell_type": "code",
   "execution_count": 13,
   "metadata": {
    "collapsed": false
   },
   "outputs": [
    {
     "name": "stdout",
     "output_type": "stream",
     "text": [
      "{8: 0.2, 12: 0.2, 4: 0.2, 6: 0.2, 20: 0.2}\n"
     ]
    }
   ],
   "source": [
    "hypos = [4, 6, 8, 12, 20]\n",
    "prior = 1.0 / len(hypos)\n",
    "dictionary = dict()\n",
    "for hypo in hypos:\n",
    "    dictionary[hypo] = prior\n",
    "print(dictionary)"
   ]
  },
  {
   "cell_type": "markdown",
   "metadata": {},
   "source": [
    "In our world, we roll a dice and get a 6. That's our data."
   ]
  },
  {
   "cell_type": "code",
   "execution_count": 4,
   "metadata": {
    "collapsed": false
   },
   "outputs": [],
   "source": [
    "data = 6"
   ]
  },
  {
   "cell_type": "markdown",
   "metadata": {},
   "source": [
    "If we roll a 6, it wouldn't make sense that we rolled a 4-sided die and got a 6. Obviously, given the die roll (our data), the probability of our hypotheses change. This is the **likelihood** of the data given the hypotheses. "
   ]
  },
  {
   "cell_type": "code",
   "execution_count": 14,
   "metadata": {
    "collapsed": false
   },
   "outputs": [
    {
     "name": "stdout",
     "output_type": "stream",
     "text": [
      "If I rolled a 8-sided dice, how does my prior probability change if I roll a 6?\n",
      "Likelihood of rolling a 6 from a 8-sided dice: 1/8 or 0.125\n",
      "Prior probability of the hypothesis before seeing data: 0.2\n",
      "Posterior probability of the hypothesis after seeing data: 0.025\n",
      "\n",
      "If I rolled a 12-sided dice, how does my prior probability change if I roll a 6?\n",
      "Likelihood of rolling a 6 from a 12-sided dice: 1/12 or 0.08333333333333333\n",
      "Prior probability of the hypothesis before seeing data: 0.2\n",
      "Posterior probability of the hypothesis after seeing data: 0.016666666666666666\n",
      "\n",
      "If I rolled a 4-sided dice, how does my prior probability change if I roll a 6?\n",
      "Likelihood of rolling a 6 from a 4-sided dice: not likely since 6 is greater than the possibilities on the dice\n",
      "Prior probability of the hypothesis before seeing data: 0.2\n",
      "Posterior probability of the hypothesis after seeing data: 0.0\n",
      "\n",
      "If I rolled a 6-sided dice, how does my prior probability change if I roll a 6?\n",
      "Likelihood of rolling a 6 from a 6-sided dice: 1/6 or 0.16666666666666666\n",
      "Prior probability of the hypothesis before seeing data: 0.2\n",
      "Posterior probability of the hypothesis after seeing data: 0.03333333333333333\n",
      "\n",
      "If I rolled a 20-sided dice, how does my prior probability change if I roll a 6?\n",
      "Likelihood of rolling a 6 from a 20-sided dice: 1/20 or 0.05\n",
      "Prior probability of the hypothesis before seeing data: 0.2\n",
      "Posterior probability of the hypothesis after seeing data: 0.010000000000000002\n",
      "\n"
     ]
    }
   ],
   "source": [
    "def Likelihood(data,hypo):\n",
    "        \"\"\"Computes the likelihood of the data under the hypothesis.\n",
    "        hypo: integer number of sides on the die\n",
    "        data: integer die roll\n",
    "        \"\"\"\n",
    "        if hypo < data:\n",
    "            return 0\n",
    "        else:\n",
    "            return 1.0/hypo\n",
    "\n",
    "tmp = {}\n",
    "likes = []\n",
    "for hypo in dictionary.keys():\n",
    "    like = Likelihood(data, hypo)\n",
    "    likes.append(like)\n",
    "    print(\"If I rolled a \"+repr(hypo)+\"-sided dice, how does my prior probability change if I roll a \"+repr(data)+\"?\")\n",
    "    if hypo<data:\n",
    "        print('Likelihood of rolling a 6 from a '+repr(hypo)+'-sided dice: not likely since 6 is greater than the possibilities on the dice')\n",
    "    else:\n",
    "        print('Likelihood of rolling a 6 from a '+repr(hypo)+'-sided dice: '+repr(1)+'/'+repr(hypo)+' or '+repr(like))\n",
    "    print('Prior probability of the hypothesis before seeing data: '+repr(v.d.get(hypo, 0)))\n",
    "    print('Posterior probability of the hypothesis after seeing data: '+repr(v.d.get(hypo, 0) * like)+'\\n')\n",
    "    tmp[hypo] = dictionary.get(hypo) * like"
   ]
  },
  {
   "cell_type": "markdown",
   "metadata": {},
   "source": [
    "Let's see if this makes sense. Now the likelihood of the data, rolling a 6, is 0 if we rolled a 4-sided die. This makes sense-can't get a 6 without a 6 on the dice! But for every die with increasing sides, the likelihood gets smaller. This makes sense because there's more options to roll than just a 6. But why is the probabilities after seeing the data collectively higher than before seeing the data? \n",
    "\n",
    "One of the 3 axioms of probability is that the sum of probabilities has to equal one. Right now they don't sum to 1 and so we can't compare the likelihoods. We use the **normalizing constant** to make these probabilities again."
   ]
  },
  {
   "cell_type": "code",
   "execution_count": 6,
   "metadata": {
    "collapsed": false
   },
   "outputs": [
    {
     "name": "stdout",
     "output_type": "stream",
     "text": [
      "Sum of posterior probabilities 0.08500000000000002\n",
      "\n",
      "Now dividing this sum for each posterior probability\n",
      "\n",
      "4     0.000000\n",
      "6     0.392157\n",
      "8     0.294118\n",
      "12    0.196078\n",
      "20    0.117647\n",
      "dtype: float64\n"
     ]
    }
   ],
   "source": [
    "print('Sum of posterior probabilities '+repr(sum(tmp.values()))+'\\n')\n",
    "print('Now dividing this sum for each posterior probability\\n')\n",
    "tmp2 = []\n",
    "for t in tmp.itervalues():\n",
    "    tmp2.append(t / sum(tmp.values()))\n",
    "series = pd.Series(tmp2,index=tmp.keys()).sort_index()\n",
    "print(series)"
   ]
  },
  {
   "cell_type": "code",
   "execution_count": 7,
   "metadata": {
    "collapsed": false
   },
   "outputs": [
    {
     "data": {
      "text/plain": [
       "[0.0,\n",
       " 0.3921568627450979,\n",
       " 0.2941176470588235,\n",
       " 0.19607843137254896,\n",
       " 0.11764705882352941]"
      ]
     },
     "execution_count": 7,
     "metadata": {},
     "output_type": "execute_result"
    }
   ],
   "source": [
    "series.tolist()"
   ]
  },
  {
   "cell_type": "markdown",
   "metadata": {},
   "source": [
    "The above is exactly what Allen Downey computes in the book! Yay! \n",
    "\n",
    "Let me put this in a nice display so the process makes sense."
   ]
  },
  {
   "cell_type": "code",
   "execution_count": 8,
   "metadata": {
    "collapsed": false
   },
   "outputs": [
    {
     "data": {
      "text/html": [
       "<div>\n",
       "<style>\n",
       "    .dataframe thead tr:only-child th {\n",
       "        text-align: right;\n",
       "    }\n",
       "\n",
       "    .dataframe thead th {\n",
       "        text-align: left;\n",
       "    }\n",
       "\n",
       "    .dataframe tbody tr th {\n",
       "        vertical-align: top;\n",
       "    }\n",
       "</style>\n",
       "<table border=\"1\" class=\"dataframe\">\n",
       "  <thead>\n",
       "    <tr style=\"text-align: right;\">\n",
       "      <th></th>\n",
       "      <th>Hypothesis</th>\n",
       "      <th>Prior</th>\n",
       "      <th>Data</th>\n",
       "      <th>Likelihood</th>\n",
       "      <th>Posterior</th>\n",
       "    </tr>\n",
       "  </thead>\n",
       "  <tbody>\n",
       "    <tr>\n",
       "      <th>2</th>\n",
       "      <td>4</td>\n",
       "      <td>0.2</td>\n",
       "      <td>6</td>\n",
       "      <td>0.000000</td>\n",
       "      <td>0.000000</td>\n",
       "    </tr>\n",
       "    <tr>\n",
       "      <th>3</th>\n",
       "      <td>6</td>\n",
       "      <td>0.2</td>\n",
       "      <td>6</td>\n",
       "      <td>0.166667</td>\n",
       "      <td>0.392157</td>\n",
       "    </tr>\n",
       "    <tr>\n",
       "      <th>0</th>\n",
       "      <td>8</td>\n",
       "      <td>0.2</td>\n",
       "      <td>6</td>\n",
       "      <td>0.125000</td>\n",
       "      <td>0.294118</td>\n",
       "    </tr>\n",
       "    <tr>\n",
       "      <th>1</th>\n",
       "      <td>12</td>\n",
       "      <td>0.2</td>\n",
       "      <td>6</td>\n",
       "      <td>0.083333</td>\n",
       "      <td>0.196078</td>\n",
       "    </tr>\n",
       "    <tr>\n",
       "      <th>4</th>\n",
       "      <td>20</td>\n",
       "      <td>0.2</td>\n",
       "      <td>6</td>\n",
       "      <td>0.050000</td>\n",
       "      <td>0.117647</td>\n",
       "    </tr>\n",
       "  </tbody>\n",
       "</table>\n",
       "</div>"
      ],
      "text/plain": [
       "   Hypothesis  Prior  Data  Likelihood  Posterior\n",
       "2           4    0.2     6    0.000000   0.000000\n",
       "3           6    0.2     6    0.166667   0.392157\n",
       "0           8    0.2     6    0.125000   0.294118\n",
       "1          12    0.2     6    0.083333   0.196078\n",
       "4          20    0.2     6    0.050000   0.117647"
      ]
     },
     "execution_count": 8,
     "metadata": {},
     "output_type": "execute_result"
    }
   ],
   "source": [
    "#instantiate dataframe\n",
    "df = pd.DataFrame()\n",
    "#make cols\n",
    "\n",
    "#hypotheses\n",
    "df['Hypothesis'] = [x for x,y in v.Items()]\n",
    "#prior probability for hypotheses\n",
    "df['Prior'] = [y for x,y in v.Items()]\n",
    "#data\n",
    "df['Data'] = np.repeat(6,df.shape[0])\n",
    "#likelihood-probability of data given an hypothesis\n",
    "df['Likelihood'] = likes\n",
    "#normalizing likelihoods to get posterior\n",
    "df['Posterior'] = df['Likelihood'] * df['Prior'] / sum(tmp.values())\n",
    "#sorting by hypotheses\n",
    "df.sort_values(by=['Hypothesis'],inplace=True)\n",
    "df"
   ]
  },
  {
   "cell_type": "code",
   "execution_count": 9,
   "metadata": {
    "collapsed": false
   },
   "outputs": [
    {
     "data": {
      "image/png": "[encoded data removed]",
      "text/plain": [
       "<matplotlib.figure.Figure at 0x112b79550>"
      ]
     },
     "metadata": {},
     "output_type": "display_data"
    }
   ],
   "source": [
    "import matplotlib.pyplot as plt\n",
    "plt.plot(df['Hypothesis'].tolist(),df['Prior'],color='blue',marker='o')\n",
    "plt.plot(df['Hypothesis'].tolist(),df['Likelihood'],color='red',marker='o')\n",
    "plt.plot(df['Hypothesis'].tolist(),df['Posterior'],color='green',marker='o')\n",
    "plt.ylabel('Probability of rolling a '+repr(data))\n",
    "plt.xlabel('Hypothesis: n-sided dice rolled')\n",
    "plt.title('Probability of dice rolling')\n",
    "plt.legend()\n",
    "plt.show()"
   ]
  },
  {
   "cell_type": "markdown",
   "metadata": {
    "collapsed": true
   },
   "source": [
    "We see that knowing that we rolled a 6 changed our chances of rolling a N-sided dice. Our original or **prior** chances, shown in blue, is the same for each N-sided die. However, the **likelihood** of rolling a 6 given each die, represented in red, changed our chances to our **posterior** distribution, shown in green. \n",
    "\n",
    "This completes the first portion of the dice example.\n",
    "\n",
    "<hr>\n",
    "\n",
    "The second part of the dice example shows how the probability changes after we have seen more data"
   ]
  },
  {
   "cell_type": "code",
   "execution_count": 41,
   "metadata": {
    "collapsed": true
   },
   "outputs": [],
   "source": [
    "more_data = [4, 8, 7, 7, 2]"
   ]
  },
  {
   "cell_type": "markdown",
   "metadata": {},
   "source": [
    "How do our chances of rolling any given N-sided die change with seeing this new data?\n",
    "\n",
    "To clean up the code a bit, I'll make a function for normalizing the probabilities."
   ]
  },
  {
   "cell_type": "code",
   "execution_count": 49,
   "metadata": {
    "collapsed": false
   },
   "outputs": [
    {
     "name": "stdout",
     "output_type": "stream",
     "text": [
      "{8: 0.025, 4: 0.05, 12: 0.016666666666666666, 6: 0.03333333333333333, 20: 0.010000000000000002}\n",
      "4     0.370370\n",
      "6     0.246914\n",
      "8     0.185185\n",
      "12    0.123457\n",
      "20    0.074074\n",
      "dtype: float64\n",
      "{8: 0.023148148148148147, 4: 0.0, 12: 0.010288065843621397, 6: 0.0, 20: 0.0037037037037037043}\n",
      "4     0.000000\n",
      "6     0.000000\n",
      "8     0.623269\n",
      "12    0.277008\n",
      "20    0.099723\n",
      "dtype: float64\n",
      "{8: 0.07790858725761772, 4: 0.0, 12: 0.023084025854108951, 6: 0.0, 20: 0.0049861495844875361}\n",
      "4     0.000000\n",
      "6     0.000000\n",
      "8     0.735134\n",
      "12    0.217817\n",
      "20    0.047049\n",
      "dtype: float64\n",
      "{8: 0.091891744717926382, 4: 0.0, 12: 0.018151455746750887, 6: 0.0, 20: 0.0023524286647789165}\n",
      "4     0.000000\n",
      "6     0.000000\n",
      "8     0.817574\n",
      "12    0.161496\n",
      "20    0.020930\n",
      "dtype: float64\n",
      "{8: 0.10219675069847063, 4: 0.0, 12: 0.013458008322432342, 6: 0.0, 20: 0.0010464947271523399}\n",
      "4     0.000000\n",
      "6     0.000000\n",
      "8     0.875713\n",
      "12    0.115320\n",
      "20    0.008967\n",
      "dtype: float64\n"
     ]
    }
   ],
   "source": [
    "#Compute Likelihood \n",
    "tmp = {}\n",
    "likes = []\n",
    "updated_dict = dictionary\n",
    "for data in more_data:\n",
    "    for hypo in updated_dict.keys():\n",
    "        like = Likelihood(data, hypo)\n",
    "        likes.append(like)\n",
    "        tmp[hypo] = updated_dict.get(hypo) * like\n",
    "    print(tmp)\n",
    "    tmp2 = []\n",
    "    for t in tmp.itervalues():\n",
    "        tmp2.append(t / sum(tmp.values()))\n",
    "    series = pd.Series(tmp2,index=tmp.keys()).sort_index()\n",
    "    print(series)\n",
    "    updated_dict = series.to_dict()"
   ]
  },
  {
   "cell_type": "code",
   "execution_count": null,
   "metadata": {
    "collapsed": true
   },
   "outputs": [],
   "source": []
  }
 ],
 "metadata": {
  "kernelspec": {
   "display_name": "Python [conda env:py2.7]",
   "language": "python",
   "name": "conda-env-py2.7-py"
  },
  "language_info": {
   "codemirror_mode": {
    "name": "ipython",
    "version": 2
   },
   "file_extension": ".py",
   "mimetype": "text/x-python",
   "name": "python",
   "nbconvert_exporter": "python",
   "pygments_lexer": "ipython2",
   "version": "2.7.13"
  }
 },
 "nbformat": 4,
 "nbformat_minor": 1
}
