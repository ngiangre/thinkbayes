{
 "cells": [
  {
   "cell_type": "markdown",
   "metadata": {},
   "source": [
    "# Walk-through of Dice example in _Think Bayes_\n",
    "\n",
    "In this notebook, I implement the main method that compute the entirety of the Dice example from the book _Think Bayes_ by Allen Downey. \n",
    "\n",
    "However, I want to understand how exactly he computes the posterior, so I deconstruct the example to make his calculations more transparent.\n",
    "\n",
    "First I construct a helper function to import his modules and I import my own modules,"
   ]
  },
  {
   "cell_type": "code",
   "execution_count": 10,
   "metadata": {
    "collapsed": true
   },
   "outputs": [],
   "source": [
    "def import_file(full_path_to_module):\n",
    "    try:\n",
    "        import os\n",
    "        module_dir, module_file = os.path.split(full_path_to_module)\n",
    "        module_name, module_ext = os.path.splitext(module_file)\n",
    "        save_cwd = os.getcwd()\n",
    "        os.chdir(module_dir)\n",
    "        module_obj = __import__(module_name)\n",
    "        module_obj.__file__ = full_path_to_module\n",
    "        globals()[module_name] = module_obj\n",
    "        os.chdir(save_cwd)\n",
    "    except:\n",
    "        raise ImportError\n",
    "\n",
    "import_file('/Users/nickgiangreco/gmail_dropbox/Dropbox/thinkbayes/ThinkBayes-master/code/thinkbayes.py')\n",
    "\n",
    "import thinkbayes\n",
    "import numpy as np\n",
    "np.set_printoptions(precision=3)\n",
    "import pandas as pd\n",
    "import_file('/Users/nickgiangreco/gmail_dropbox/Dropbox/thinkbayes/ThinkBayes-master/code/dice.py')"
   ]
  },
  {
   "cell_type": "markdown",
   "metadata": {},
   "source": [
    "In the book, the main output for this problem is"
   ]
  },
  {
   "cell_type": "code",
   "execution_count": 2,
   "metadata": {
    "collapsed": false
   },
   "outputs": [
    {
     "name": "stdout",
     "output_type": "stream",
     "text": [
      "After one 6\n",
      "4 0.0\n",
      "6 0.392156862745\n",
      "8 0.294117647059\n",
      "12 0.196078431373\n",
      "20 0.117647058824\n",
      "After more rolls\n",
      "4 0.0\n",
      "6 0.0\n",
      "8 0.915845271969\n",
      "12 0.080403425797\n",
      "20 0.00375130223399\n"
     ]
    }
   ],
   "source": [
    "import_file('/Users/nickgiangreco/gmail_dropbox/Dropbox/thinkbayes/ThinkBayes-master/code/dice.py')\n",
    "dice.main()"
   ]
  },
  {
   "cell_type": "markdown",
   "metadata": {},
   "source": [
    "However, how he computes the posterior is not transparent. I'll break this down step by step.\n",
    "\n",
    "First, we have some hypotheses about our world, which is that there are 5 n-sided die that we could roll. There's no preference in which one we roll, so each is equally likely to be rolled. Below I print a dictionary showing the **prior** probability of rolling each die, since we have no **prior** knowledge of die preference."
   ]
  },
  {
   "cell_type": "code",
   "execution_count": 42,
   "metadata": {
    "collapsed": false
   },
   "outputs": [
    {
     "name": "stdout",
     "output_type": "stream",
     "text": [
      "{8: 0.2, 12: 0.2, 4: 0.2, 6: 0.2, 20: 0.2}\n"
     ]
    }
   ],
   "source": [
    "hypos = [4, 6, 8, 12, 20]\n",
    "#methods used by Allen Downey in book\n",
    "v = dice.Dice(hypos)\n",
    "print(v.d)"
   ]
  },
  {
   "cell_type": "markdown",
   "metadata": {},
   "source": [
    "In our world, we roll a dice and get a 6. That's our data."
   ]
  },
  {
   "cell_type": "code",
   "execution_count": 11,
   "metadata": {
    "collapsed": true
   },
   "outputs": [],
   "source": [
    "data = 6"
   ]
  },
  {
   "cell_type": "markdown",
   "metadata": {},
   "source": [
    "If we roll a 6, it wouldn't make sure that we rolled a 4-sided die and got a 6. Obviously, given the die, the probability of hypotheses changes. This is the **likelihood** of the data given the hypotheses. "
   ]
  },
  {
   "cell_type": "code",
   "execution_count": 13,
   "metadata": {
    "collapsed": false
   },
   "outputs": [
    {
     "name": "stdout",
     "output_type": "stream",
     "text": [
      "\n",
      "\n",
      "If I rolled a 8-sided die, how does my prior probability change if I roll a 6?\n",
      "0.025\n",
      "\n",
      "\n",
      "If I rolled a 12-sided die, how does my prior probability change if I roll a 6?\n",
      "0.0166666666667\n",
      "\n",
      "\n",
      "If I rolled a 4-sided die, how does my prior probability change if I roll a 6?\n",
      "0.0\n",
      "\n",
      "\n",
      "If I rolled a 6-sided die, how does my prior probability change if I roll a 6?\n",
      "0.0333333333333\n",
      "\n",
      "\n",
      "If I rolled a 20-sided die, how does my prior probability change if I roll a 6?\n",
      "0.01\n"
     ]
    }
   ],
   "source": [
    "tmp = []\n",
    "for hypo in u.Values():\n",
    "    like = u.Likelihood(data, hypo)\n",
    "    print(\"\\n\")\n",
    "    print(\"If I rolled a \"+repr(hypo)+\"-sided die, how does my prior probability change if I roll a \"+repr(data)+\"?\")\n",
    "    print(u.d.get(hypo, 0) * like)\n",
    "    tmp.append(u.d.get(hypo, 0) * like)"
   ]
  },
  {
   "cell_type": "markdown",
   "metadata": {},
   "source": [
    "Let's see if this makes sense. Now the likelihood of the data, rolling a 6, is 0 if we rolled a 4-sided die. This makes sense-can't get a 6 without a 6 on the die! But for every die with increasing sides, the likelihood gets smaller. This makes sense because there's more options to roll than just a 6. \n",
    "\n",
    "Something to keep in mind: One of the 3 axioms of probability is that the sum of probabilities has to equal one. Right now they don't sum to 1 and so we can't compare the likelihoods. Now we use the **normalizing constant** to make these probabilities again."
   ]
  },
  {
   "cell_type": "code",
   "execution_count": 43,
   "metadata": {
    "collapsed": false
   },
   "outputs": [
    {
     "name": "stdout",
     "output_type": "stream",
     "text": [
      "Sum of likelihoods 0.08500000000000002\n",
      "\n",
      "4     0.294118\n",
      "6     0.196078\n",
      "8     0.000000\n",
      "12    0.392157\n",
      "20    0.117647\n",
      "dtype: float64\n"
     ]
    }
   ],
   "source": [
    "print('Sum of likelihoods '+repr(sum(tmp))+'\\n')\n",
    "tmp2 = []\n",
    "for t in tmp:\n",
    "    tmp2.append(t / sum(tmp))\n",
    "print(pd.Series(tmp2,index=hypos))"
   ]
  },
  {
   "cell_type": "markdown",
   "metadata": {},
   "source": [
    "The above is exactly what Allen Downey computes in the book! Yay! \n",
    "\n",
    "Let me put this in a nice display so the process makes sense."
   ]
  },
  {
   "cell_type": "code",
   "execution_count": 46,
   "metadata": {
    "collapsed": false
   },
   "outputs": [
    {
     "data": {
      "text/html": [
       "<div>\n",
       "<style>\n",
       "    .dataframe thead tr:only-child th {\n",
       "        text-align: right;\n",
       "    }\n",
       "\n",
       "    .dataframe thead th {\n",
       "        text-align: left;\n",
       "    }\n",
       "\n",
       "    .dataframe tbody tr th {\n",
       "        vertical-align: top;\n",
       "    }\n",
       "</style>\n",
       "<table border=\"1\" class=\"dataframe\">\n",
       "  <thead>\n",
       "    <tr style=\"text-align: right;\">\n",
       "      <th></th>\n",
       "      <th>Hypothesis</th>\n",
       "      <th>Prior</th>\n",
       "      <th>Data</th>\n",
       "      <th>P(Data)</th>\n",
       "      <th>Likelihood</th>\n",
       "      <th>Posterior</th>\n",
       "    </tr>\n",
       "  </thead>\n",
       "  <tbody>\n",
       "    <tr>\n",
       "      <th>2</th>\n",
       "      <td>4</td>\n",
       "      <td>0.2</td>\n",
       "      <td>6</td>\n",
       "      <td>0.166667</td>\n",
       "      <td>0.000000</td>\n",
       "      <td>0.000000</td>\n",
       "    </tr>\n",
       "    <tr>\n",
       "      <th>3</th>\n",
       "      <td>6</td>\n",
       "      <td>0.2</td>\n",
       "      <td>6</td>\n",
       "      <td>0.166667</td>\n",
       "      <td>0.033333</td>\n",
       "      <td>0.392157</td>\n",
       "    </tr>\n",
       "    <tr>\n",
       "      <th>0</th>\n",
       "      <td>8</td>\n",
       "      <td>0.2</td>\n",
       "      <td>6</td>\n",
       "      <td>0.166667</td>\n",
       "      <td>0.025000</td>\n",
       "      <td>0.294118</td>\n",
       "    </tr>\n",
       "    <tr>\n",
       "      <th>1</th>\n",
       "      <td>12</td>\n",
       "      <td>0.2</td>\n",
       "      <td>6</td>\n",
       "      <td>0.166667</td>\n",
       "      <td>0.016667</td>\n",
       "      <td>0.196078</td>\n",
       "    </tr>\n",
       "    <tr>\n",
       "      <th>4</th>\n",
       "      <td>20</td>\n",
       "      <td>0.2</td>\n",
       "      <td>6</td>\n",
       "      <td>0.166667</td>\n",
       "      <td>0.010000</td>\n",
       "      <td>0.117647</td>\n",
       "    </tr>\n",
       "  </tbody>\n",
       "</table>\n",
       "</div>"
      ],
      "text/plain": [
       "   Hypothesis  Prior  Data   P(Data)  Likelihood  Posterior\n",
       "2           4    0.2     6  0.166667    0.000000   0.000000\n",
       "3           6    0.2     6  0.166667    0.033333   0.392157\n",
       "0           8    0.2     6  0.166667    0.025000   0.294118\n",
       "1          12    0.2     6  0.166667    0.016667   0.196078\n",
       "4          20    0.2     6  0.166667    0.010000   0.117647"
      ]
     },
     "execution_count": 46,
     "metadata": {},
     "output_type": "execute_result"
    }
   ],
   "source": [
    "#instantiate dataframe\n",
    "df = pd.DataFrame()\n",
    "#make cols\n",
    "\n",
    "#hypotheses\n",
    "df['Hypothesis'] = [x for x,y in u.Items()]\n",
    "#prior probability for hypotheses\n",
    "df['Prior'] = [y for x,y in u.Items()]\n",
    "#data\n",
    "df['Data'] = np.repeat(6,df.shape[0])\n",
    "#probability of data\n",
    "df['P(Data)'] = np.repeat(1.0/6.0,df.shape[0])\n",
    "#likelihood-probability of data given an hypothesis\n",
    "df['Likelihood'] = tmp\n",
    "#normalizing likelihoods to get posterior\n",
    "df['Posterior'] = df['Likelihood'] / sum(tmp)\n",
    "#sorting by hypotheses\n",
    "df.sort_values(by=['Hypothesis'],inplace=False)"
   ]
  },
  {
   "cell_type": "code",
   "execution_count": null,
   "metadata": {
    "collapsed": true
   },
   "outputs": [],
   "source": []
  }
 ],
 "metadata": {
  "kernelspec": {
   "display_name": "Python [conda env:py2.7]",
   "language": "python",
   "name": "conda-env-py2.7-py"
  },
  "language_info": {
   "codemirror_mode": {
    "name": "ipython",
    "version": 2
   },
   "file_extension": ".py",
   "mimetype": "text/x-python",
   "name": "python",
   "nbconvert_exporter": "python",
   "pygments_lexer": "ipython2",
   "version": "2.7.13"
  }
 },
 "nbformat": 4,
 "nbformat_minor": 1
}
