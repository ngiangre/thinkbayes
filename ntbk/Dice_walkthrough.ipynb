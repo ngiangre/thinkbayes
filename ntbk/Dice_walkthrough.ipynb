{
 "cells": [
  {
   "cell_type": "markdown",
   "metadata": {},
   "source": [
    "# Walk-through of Dice example in _Think Bayes_\n",
    "\n",
    "In this notebook, I implement the Dice example, or will I roll a 6 if my dice is fair or biased? This example comes from the book _Think Bayes_ by Allen Downey. \n",
    "\n",
    "Generally speaking, _Think Bayes_ is an overview of bayesian thinking, learning the concepts through practical programming in python.\n",
    "\n",
    "In addition to implementing his approach as written, I deconstruct the example to make his calculations more transparent.\n",
    "\n",
    "To run this mnotebook you need a python2 kernel, since the example is originally written in python2. However, my code could be ran in python3. \n",
    "\n",
    "First I have a helper function to import his modules and I import my own modules,"
   ]
  },
  {
   "cell_type": "code",
   "execution_count": 9,
   "metadata": {},
   "outputs": [],
   "source": [
    "#https://stackoverflow.com/questions/67631/how-to-import-a-module-given-the-full-path\n",
    "def import_file(full_path_to_module):\n",
    "    try:\n",
    "        import os\n",
    "        module_dir, module_file = os.path.split(full_path_to_module)\n",
    "        module_name, module_ext = os.path.splitext(module_file)\n",
    "        save_cwd = os.getcwd()\n",
    "        os.chdir(module_dir)\n",
    "        module_obj = __import__(module_name)\n",
    "        module_obj.__file__ = full_path_to_module\n",
    "        globals()[module_name] = module_obj\n",
    "        os.chdir(save_cwd)\n",
    "    except:\n",
    "        raise ImportError\n",
    "\n",
    "#change path accordingly\n",
    "path = '/Users/npg2108/GitHub/'\n",
    "import_file(path+'thinkbayes/ThinkBayes-master/code/thinkbayes.py')\n",
    "\n",
    "#load modules/files\n",
    "import thinkbayes\n",
    "import numpy as np\n",
    "np.set_printoptions(precision=3)\n",
    "import pandas as pd\n",
    "import matplotlib.pyplot as plt\n",
    "import seaborn as sns\n",
    "sns.set_context('talk')\n",
    "import_file(path+'thinkbayes/ThinkBayes-master/code/dice.py')"
   ]
  },
  {
   "cell_type": "markdown",
   "metadata": {},
   "source": [
    "## Dice Example\n",
    "\n",
    "In the book, the Dice example is presented.\n",
    "\n",
    "This example presents what is the probability (the likely chance) of rolling a 6, given certain views of how the word works or _hypotheses_. These hypotheses are having rolled a 4-, 6-, 8-, 12-, or 20-sided die. The example shows the posterior probability after one roll and after more rolls (with, say, rolling an additional 8). \n",
    "\n",
    "> The **posterior** probability is an _updated_ measure of probability of a hypothesis after having seen some data that clarifies or kind of helps you discern how likely that hypothesis, in our case rolling an N-sided die, could be true.\n",
    "\n",
    "The main output, from the book's code, for the Dice example is"
   ]
  },
  {
   "cell_type": "code",
   "execution_count": 2,
   "metadata": {},
   "outputs": [
    {
     "name": "stdout",
     "output_type": "stream",
     "text": [
      "After one 6\n",
      "4 0.0\n",
      "6 0.392156862745\n",
      "8 0.294117647059\n",
      "12 0.196078431373\n",
      "20 0.117647058824\n",
      "After more rolls\n",
      "4 0.0\n",
      "6 0.0\n",
      "8 0.915845271969\n",
      "12 0.080403425797\n",
      "20 0.00375130223399\n"
     ]
    }
   ],
   "source": [
    "import_file(path+'thinkbayes/ThinkBayes-master/code/dice.py')\n",
    "dice.main()"
   ]
  },
  {
   "cell_type": "markdown",
   "metadata": {},
   "source": [
    "This example from the book shows computing the posterior probability of the type of N-sided die given the rolls (data) seen. \n",
    "\n",
    "<hr>\n",
    "\n",
    "The example above is one of the first examples in the book, and is a good introduction to what the posterior probability, or just posterior for short, is. However, how he computes the posterior is not transparent unless you dig into his scripts. I'll break this down step by step.\n",
    "\n",
    "## Computing the Posterior Step-by-Step\n",
    "First, we have some hypotheses about our world, which is that there are 5 different N-sided die that we could roll. There's no preference for which one we roll, so each is equally likely to be rolled. Below I print a dictionary showing the **prior** probability of rolling each die, since we have no _prior_ knowledge of die preference."
   ]
  },
  {
   "cell_type": "code",
   "execution_count": 3,
   "metadata": {},
   "outputs": [
    {
     "name": "stdout",
     "output_type": "stream",
     "text": [
      "{8: 0.2, 12: 0.2, 4: 0.2, 6: 0.2, 20: 0.2}\n"
     ]
    }
   ],
   "source": [
    "hypos = [4, 6, 8, 12, 20]\n",
    "prior = 1.0 / len(hypos)\n",
    "dictionary = dict()\n",
    "for hypo in hypos:\n",
    "    dictionary[hypo] = prior\n",
    "print(dictionary)"
   ]
  },
  {
   "cell_type": "markdown",
   "metadata": {},
   "source": [
    "Interpreting the above, the probability of rolling an 8-sided dice is 0.2 or 1/5, for example. \n",
    "\n",
    "In our world, we roll a dice and get a 6. That's our data."
   ]
  },
  {
   "cell_type": "code",
   "execution_count": 4,
   "metadata": {},
   "outputs": [],
   "source": [
    "data = 6"
   ]
  },
  {
   "cell_type": "markdown",
   "metadata": {},
   "source": [
    "If we roll a 6, it wouldn't make sense that we rolled a 4-sided die and got a 6. Obviously, given the die roll (our data), the probability of our hypotheses change. This is the **likelihood** of the data given the hypotheses. "
   ]
  },
  {
   "cell_type": "code",
   "execution_count": 5,
   "metadata": {},
   "outputs": [
    {
     "name": "stdout",
     "output_type": "stream",
     "text": [
      "If I rolled a 4-sided dice, how does my prior probability change if I roll a 6?\n",
      "Likelihood of rolling a 6 from a 4-sided dice: not likely since 6 is greater than the numbers on the dice\n",
      "Prior probability of the hypothesis before seeing data: 0.2\n",
      "Posterior probability of the hypothesis after seeing data: 0.0\n",
      "\n",
      "If I rolled a 6-sided dice, how does my prior probability change if I roll a 6?\n",
      "Likelihood of rolling a 6 from a 6-sided dice: 1/6 or 0.167\n",
      "Prior probability of the hypothesis before seeing data: 0.2\n",
      "Posterior probability of the hypothesis after seeing data: 0.033\n",
      "\n",
      "If I rolled a 8-sided dice, how does my prior probability change if I roll a 6?\n",
      "Likelihood of rolling a 6 from a 8-sided dice: 1/8 or 0.125\n",
      "Prior probability of the hypothesis before seeing data: 0.2\n",
      "Posterior probability of the hypothesis after seeing data: 0.025\n",
      "\n",
      "If I rolled a 12-sided dice, how does my prior probability change if I roll a 6?\n",
      "Likelihood of rolling a 6 from a 12-sided dice: 1/12 or 0.083\n",
      "Prior probability of the hypothesis before seeing data: 0.2\n",
      "Posterior probability of the hypothesis after seeing data: 0.017\n",
      "\n",
      "If I rolled a 20-sided dice, how does my prior probability change if I roll a 6?\n",
      "Likelihood of rolling a 6 from a 20-sided dice: 1/20 or 0.05\n",
      "Prior probability of the hypothesis before seeing data: 0.2\n",
      "Posterior probability of the hypothesis after seeing data: 0.01\n",
      "\n"
     ]
    }
   ],
   "source": [
    "# function for computing likeligood of data given an hypothesis\n",
    "def Likelihood(data,hypo):\n",
    "        \"\"\"Computes the likelihood of the data under the hypothesis.\n",
    "        hypo: integer number of sides on the die\n",
    "        data: integer die roll\n",
    "        \"\"\"\n",
    "        if hypo < data:\n",
    "            return 0\n",
    "        else:\n",
    "            return 1.0/hypo\n",
    "\n",
    "tmp = {}\n",
    "likes = []\n",
    "# looping through hypotheses to see change in probability of hypothesis without data (prior probability) and with data (likelihood)\n",
    "for hypo in np.sort(dictionary.keys()):\n",
    "    like = Likelihood(data, hypo)\n",
    "    likes.append(like)\n",
    "    print(\"If I rolled a \"+repr(hypo)+\"-sided dice, how does my prior probability change if I roll a \"+repr(data)+\"?\")\n",
    "    if hypo<data:\n",
    "        print('Likelihood of rolling a 6 from a '+repr(hypo)+'-sided dice: not likely since 6 is greater than the numbers on the dice')\n",
    "    else:\n",
    "        print('Likelihood of rolling a 6 from a '+repr(hypo)+'-sided dice: '+repr(1)+'/'+repr(hypo)+' or '+repr(round(like,3)))\n",
    "    print('Prior probability of the hypothesis before seeing data: '+repr(round(dictionary.get(hypo, 0),3)))\n",
    "    print('Posterior probability of the hypothesis after seeing data: '+repr(round(dictionary.get(hypo, 0) * like,3))+'\\n')\n",
    "    tmp[hypo] = dictionary.get(hypo) * like"
   ]
  },
  {
   "cell_type": "markdown",
   "metadata": {},
   "source": [
    "Let's see if this makes sense. Now the likelihood of the data, rolling a 6, is 0 if we rolled a 4-sided die. This makes sense-can't get a 6 without a 6 on the dice! But for every die with increasing sides, the likelihood gets smaller. This makes sense because there's more options to roll than just a 6. But why are the probabilities after seeing the data collectively, when summed together, higher than before seeing the data? \n",
    "\n",
    "One of the 3 axioms of probability is that the sum of probabilities has to equal one. Right now they don't sum to 1 and so we can't compare the likelihoods. We use the **normalizing constant** to make these probabilities again."
   ]
  },
  {
   "cell_type": "code",
   "execution_count": 6,
   "metadata": {},
   "outputs": [
    {
     "name": "stdout",
     "output_type": "stream",
     "text": [
      "Sum of posterior probabilities 0.08500000000000002\n",
      "\n",
      "Now dividing this sum for each posterior probability\n",
      "\n",
      "4     0.000000\n",
      "6     0.392157\n",
      "8     0.294118\n",
      "12    0.196078\n",
      "20    0.117647\n",
      "dtype: float64\n"
     ]
    }
   ],
   "source": [
    "print('Sum of posterior probabilities '+repr(sum(tmp.values()))+'\\n')\n",
    "print('Now dividing this sum for each posterior probability\\n')\n",
    "tmp2 = []\n",
    "# normalizing likelihoods by their vsum to get posterior probability\n",
    "for t in tmp.itervalues():\n",
    "    tmp2.append(t / sum(tmp.values()))\n",
    "series = pd.Series(tmp2,index=tmp.keys()).sort_index()\n",
    "print(series)"
   ]
  },
  {
   "cell_type": "markdown",
   "metadata": {},
   "source": [
    "The above is exactly what Allen Downey computes in the book! Yay! \n",
    "\n",
    "Let me put this in a nice display so the process makes sense."
   ]
  },
  {
   "cell_type": "code",
   "execution_count": 7,
   "metadata": {},
   "outputs": [
    {
     "data": {
      "text/html": [
       "<div>\n",
       "<style>\n",
       "    .dataframe thead tr:only-child th {\n",
       "        text-align: right;\n",
       "    }\n",
       "\n",
       "    .dataframe thead th {\n",
       "        text-align: left;\n",
       "    }\n",
       "\n",
       "    .dataframe tbody tr th {\n",
       "        vertical-align: top;\n",
       "    }\n",
       "</style>\n",
       "<table border=\"1\" class=\"dataframe\">\n",
       "  <thead>\n",
       "    <tr style=\"text-align: right;\">\n",
       "      <th></th>\n",
       "      <th>Hypothesis</th>\n",
       "      <th>Prior</th>\n",
       "      <th>Data</th>\n",
       "      <th>Likelihood</th>\n",
       "      <th>Posterior</th>\n",
       "    </tr>\n",
       "    <tr>\n",
       "      <th>Hypothesis</th>\n",
       "      <th></th>\n",
       "      <th></th>\n",
       "      <th></th>\n",
       "      <th></th>\n",
       "      <th></th>\n",
       "    </tr>\n",
       "  </thead>\n",
       "  <tbody>\n",
       "    <tr>\n",
       "      <th>4</th>\n",
       "      <td>4</td>\n",
       "      <td>0.2</td>\n",
       "      <td>6</td>\n",
       "      <td>0.000000</td>\n",
       "      <td>0.000000</td>\n",
       "    </tr>\n",
       "    <tr>\n",
       "      <th>6</th>\n",
       "      <td>6</td>\n",
       "      <td>0.2</td>\n",
       "      <td>6</td>\n",
       "      <td>0.166667</td>\n",
       "      <td>0.392157</td>\n",
       "    </tr>\n",
       "    <tr>\n",
       "      <th>8</th>\n",
       "      <td>8</td>\n",
       "      <td>0.2</td>\n",
       "      <td>6</td>\n",
       "      <td>0.125000</td>\n",
       "      <td>0.294118</td>\n",
       "    </tr>\n",
       "    <tr>\n",
       "      <th>12</th>\n",
       "      <td>12</td>\n",
       "      <td>0.2</td>\n",
       "      <td>6</td>\n",
       "      <td>0.083333</td>\n",
       "      <td>0.196078</td>\n",
       "    </tr>\n",
       "    <tr>\n",
       "      <th>20</th>\n",
       "      <td>20</td>\n",
       "      <td>0.2</td>\n",
       "      <td>6</td>\n",
       "      <td>0.050000</td>\n",
       "      <td>0.117647</td>\n",
       "    </tr>\n",
       "  </tbody>\n",
       "</table>\n",
       "</div>"
      ],
      "text/plain": [
       "            Hypothesis  Prior  Data  Likelihood  Posterior\n",
       "Hypothesis                                                \n",
       "4                    4    0.2     6    0.000000   0.000000\n",
       "6                    6    0.2     6    0.166667   0.392157\n",
       "8                    8    0.2     6    0.125000   0.294118\n",
       "12                  12    0.2     6    0.083333   0.196078\n",
       "20                  20    0.2     6    0.050000   0.117647"
      ]
     },
     "execution_count": 7,
     "metadata": {},
     "output_type": "execute_result"
    }
   ],
   "source": [
    "#instantiate dataframe\n",
    "df = pd.DataFrame()\n",
    "#make cols\n",
    "\n",
    "#hypotheses\n",
    "df['Hypothesis'] = [x for x in np.sort(dictionary.keys())]\n",
    "df.index = df['Hypothesis']\n",
    "#prior probability for hypotheses\n",
    "df['Prior'] = [dictionary[x] for x in np.sort(dictionary.keys())]\n",
    "#data\n",
    "df['Data'] = np.repeat(6,df.shape[0])\n",
    "#likelihood-probability of data given an hypothesis\n",
    "df['Likelihood'] = likes\n",
    "#normalizing likelihoods to get posterior\n",
    "df['Posterior'] = df['Likelihood'] * df['Prior'] / sum(tmp.values())\n",
    "#sorting by hypotheses\n",
    "df.sort_values(by=['Hypothesis'],inplace=True)\n",
    "df"
   ]
  },
  {
   "cell_type": "code",
   "execution_count": 10,
   "metadata": {},
   "outputs": [
    {
     "data": {
      "image/png": "[encoded data removed]",
      "text/plain": [
       "<matplotlib.figure.Figure at 0x110a5bb50>"
      ]
     },
     "metadata": {},
     "output_type": "display_data"
    }
   ],
   "source": [
    "# plotting each probability measure\n",
    "plt.plot(df['Hypothesis'].tolist(),df['Prior'],color='blue',marker='o')\n",
    "plt.plot(df['Hypothesis'].tolist(),df['Likelihood'],color='red',marker='o')\n",
    "plt.plot(df['Hypothesis'].tolist(),df['Posterior'],color='green',marker='o')\n",
    "plt.ylabel('Probability of rolling a '+repr(data))\n",
    "plt.xlabel('Hypothesis: n-sided dice rolled')\n",
    "plt.title('Probability of dice rolling')\n",
    "plt.legend()\n",
    "plt.show()"
   ]
  },
  {
   "cell_type": "markdown",
   "metadata": {
    "collapsed": true
   },
   "source": [
    "We see that knowing that we rolled a 6 changed our chances of rolling a N-sided dice. Our original or **prior** chances, shown in blue, is the same for each N-sided die. However, the **likelihood** of rolling a 6 given each die, shown in red, changed our chances to our **posterior** distribution, shown in green. \n",
    "\n",
    "This completes the first portion of the dice example.\n",
    "\n",
    "<hr>\n",
    "\n",
    "The second part of the dice example shows how the probability changes after we have seen more data"
   ]
  },
  {
   "cell_type": "code",
   "execution_count": 11,
   "metadata": {},
   "outputs": [],
   "source": [
    "more_data = [4, 8, 7, 7, 2]"
   ]
  },
  {
   "cell_type": "markdown",
   "metadata": {},
   "source": [
    "How do our chances of rolling any given N-sided die change with seeing this new data?\n",
    "\n",
    "To clean up the code a bit, I'll make a function for normalizing the probabilities."
   ]
  },
  {
   "cell_type": "code",
   "execution_count": 12,
   "metadata": {},
   "outputs": [
    {
     "data": {
      "image/png": "[encoded data removed]",
      "text/plain": [
       "<matplotlib.figure.Figure at 0x110a5bbd0>"
      ]
     },
     "metadata": {},
     "output_type": "display_data"
    }
   ],
   "source": [
    "#Compute Likelihood for each successive data we see, and for each hypothesis\n",
    "#we update the previously computed posterior for each data we see. \n",
    "tmp = {}\n",
    "likes = []\n",
    "updated_dict = df['Posterior'].to_dict()\n",
    "updated_posteriors = pd.DataFrame()\n",
    "for data in more_data:\n",
    "    for hypo in dictionary.keys():\n",
    "        like = Likelihood(data, hypo)\n",
    "        likes.append(like)\n",
    "        tmp[hypo] = updated_dict.get(hypo) * like\n",
    "    tmp2 = dict()\n",
    "    for t in tmp.keys():\n",
    "        tmp2[t] = (tmp.get(t) / sum(tmp.values()))\n",
    "    series = pd.Series(tmp2)\n",
    "    series.name = data\n",
    "    updated_posteriors = updated_posteriors.append(series)\n",
    "    updated_dict = tmp2\n",
    "#graphical display of updated posterior distributions after seeing each successive data\n",
    "updated_posteriors.T.plot(colormap='copper_r',marker='o')\n",
    "plt.title('Posterior distributions after each dice roll\\nDarker color after more rolls')\n",
    "plt.ylabel('Probability of rolling die')\n",
    "plt.xlabel('Hypothesis: n-sided dice rolled')\n",
    "plt.legend().set_visible(False)\n",
    "plt.show()"
   ]
  },
  {
   "cell_type": "markdown",
   "metadata": {},
   "source": [
    "The above graph illustrations how our probability estimate changes with more evidence. \n",
    "\n",
    "The lightwst line is the posterior distribution after seeing a six. Each successive line (darker colors) are the new posterior distributions after observing more die rolls (after rolling 4, 8, 7, 7, 2)\n",
    "\n",
    "We observe more dice rolls, and thus our belief of the type of dice rolled also changes. In this case, our data supports that we most likely rolled an 8-sided die. \n",
    "\n",
    "Since we rolled 7s and an 8, it makes sense that it is not likely at all that we rolled a 4-sided or 6-sided dice since there's no possibility of rolling higher numbers even though we observe so.\n",
    "\n",
    "Since we didn't roll any higher than 8, it makes sense the chance we rolled a 12- or 20-sided die decreases while the probability of rolling an 8-sided die increases (we rolled numbers equal to or less than 8). \n",
    "\n",
    "And just to confirm that the same probabilities were estimated as in the exercise,"
   ]
  },
  {
   "cell_type": "code",
   "execution_count": 13,
   "metadata": {},
   "outputs": [
    {
     "data": {
      "text/plain": [
       "4     0.000000\n",
       "6     0.000000\n",
       "8     0.915845\n",
       "12    0.080403\n",
       "20    0.003751\n",
       "Name: 2, dtype: float64"
      ]
     },
     "execution_count": 13,
     "metadata": {},
     "output_type": "execute_result"
    }
   ],
   "source": [
    "updated_posteriors.loc[2,:]"
   ]
  },
  {
   "cell_type": "markdown",
   "metadata": {},
   "source": [
    "After rolling a 2, including the other numbers rolled, we are left with the following **posterior** probabilities for our hypotheses (N-sided die roll). The same probabilities as the exercise.\n",
    "\n",
    "<br>\n",
    "\n",
    "## The End\n",
    "\n",
    "So there we have it. We computed the posteriors from scratch. We can see how we had to compute:\n",
    "\n",
    "* The **prior**, which is just the probability of any given hypothesis to be true _without_ any data. \n",
    "\n",
    "* The **likelihood**, which is just the probability of the data given an individual hypothesis is true. \n",
    "\n",
    "* The prior times the likelihood, with dividing by a **normaling constant** to ensure we get actual probabilities (sum up to 1) from our multiplication. These probabilities are our **posterior probabilities**.\n",
    "\n",
    "This doesn't seem too bad. The intuition is we have an idea about the world, and we update the chances that our world follows that idea given data we observe. \n",
    "\n",
    "I hope this notebook provides some transparency in how posterior probabilities are computed. \n"
   ]
  },
  {
   "cell_type": "code",
   "execution_count": null,
   "metadata": {},
   "outputs": [],
   "source": []
  }
 ],
 "metadata": {
  "kernelspec": {
   "display_name": "Python [conda env:python2]",
   "language": "python",
   "name": "conda-env-python2-py"
  },
  "language_info": {
   "codemirror_mode": {
    "name": "ipython",
    "version": 2
   },
   "file_extension": ".py",
   "mimetype": "text/x-python",
   "name": "python",
   "nbconvert_exporter": "python",
   "pygments_lexer": "ipython2",
   "version": "2.7.13"
  }
 },
 "nbformat": 4,
 "nbformat_minor": 1
}
