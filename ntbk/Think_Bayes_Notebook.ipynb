{
 "cells": [
  {
   "cell_type": "markdown",
   "metadata": {},
   "source": [
    "# Practing with _Think Bayes_ by Allen Downey\n",
    "\n",
    "Using examples from the book, I break them down into digestable, transparent stories to fully understand bayesian thinking and analysis.\n",
    "\n",
    "[Dice Problem](#dice)"
   ]
  },
  {
   "cell_type": "code",
   "execution_count": 2,
   "metadata": {
    "collapsed": false
   },
   "outputs": [],
   "source": [
    "def import_file(full_path_to_module):\n",
    "    try:\n",
    "        import os\n",
    "        module_dir, module_file = os.path.split(full_path_to_module)\n",
    "        module_name, module_ext = os.path.splitext(module_file)\n",
    "        save_cwd = os.getcwd()\n",
    "        os.chdir(module_dir)\n",
    "        module_obj = __import__(module_name)\n",
    "        module_obj.__file__ = full_path_to_module\n",
    "        globals()[module_name] = module_obj\n",
    "        os.chdir(save_cwd)\n",
    "    except:\n",
    "        raise ImportError\n",
    "\n",
    "import_file('/Users/nickgiangreco/gmail_dropbox/Dropbox/thinkbayes/ThinkBayes-master/code/thinkbayes.py')\n",
    "\n",
    "import thinkbayes\n",
    "import matplotlib.pyplot as plt"
   ]
  },
  {
   "cell_type": "markdown",
   "metadata": {},
   "source": [
    "<a name=\"dice\"></a>\n",
    "## The dice problem"
   ]
  },
  {
   "cell_type": "code",
   "execution_count": 47,
   "metadata": {
    "collapsed": false
   },
   "outputs": [],
   "source": [
    "import_file('/Users/nickgiangreco/gmail_dropbox/Dropbox/thinkbayes/ThinkBayes-master/code/dice.py')\n",
    "import pandas as pd\n",
    "import numpy as np\n",
    "np.set_printoptions(precision=3)\n",
    "import itertools as it"
   ]
  },
  {
   "cell_type": "markdown",
   "metadata": {},
   "source": [
    "In the book, the main output for this problem is"
   ]
  },
  {
   "cell_type": "code",
   "execution_count": 39,
   "metadata": {
    "collapsed": false
   },
   "outputs": [
    {
     "name": "stdout",
     "output_type": "stream",
     "text": [
      "After one 6\n",
      "4 0.0\n",
      "6 0.392156862745\n",
      "8 0.294117647059\n",
      "12 0.196078431373\n",
      "20 0.117647058824\n",
      "After more rolls\n",
      "4 0.0\n",
      "6 0.0\n",
      "8 0.915845271969\n",
      "12 0.080403425797\n",
      "20 0.00375130223399\n"
     ]
    }
   ],
   "source": [
    "import_file('/Users/nickgiangreco/gmail_dropbox/Dropbox/thinkbayes/ThinkBayes-master/code/dice.py')\n",
    "dice.main()"
   ]
  },
  {
   "cell_type": "code",
   "execution_count": 40,
   "metadata": {
    "collapsed": false
   },
   "outputs": [
    {
     "name": "stdout",
     "output_type": "stream",
     "text": [
      "Hypotheses and priors\n",
      "{8: 0.2, 12: 0.2, 4: 0.2, 6: 0.2, 20: 0.2}\n",
      "\n",
      "\n",
      "If I rolled a 8-sided die, how does my prior probability change if I roll an 6?\n",
      "0.025\n",
      "\n",
      "\n",
      "If I rolled a 12-sided die, how does my prior probability change if I roll an 6?\n",
      "0.0166666666667\n",
      "\n",
      "\n",
      "If I rolled a 4-sided die, how does my prior probability change if I roll an 6?\n",
      "0.0\n",
      "\n",
      "\n",
      "If I rolled a 6-sided die, how does my prior probability change if I roll an 6?\n",
      "0.0333333333333\n",
      "\n",
      "\n",
      "If I rolled a 20-sided die, how does my prior probability change if I roll an 6?\n",
      "0.01\n",
      "\n",
      "\n",
      "Make sure the probabilities sum up to 1 to be probabilities by definition!\n",
      "\n",
      "\n",
      "Sum of probabilities: 0.08500000000000002\n",
      "\n",
      "\n",
      "Divide each probability by sum\n",
      "\n",
      "\n",
      "4     0.294118\n",
      "6     0.196078\n",
      "8     0.000000\n",
      "12    0.392157\n",
      "20    0.117647\n",
      "dtype: float64\n",
      "\n",
      "Posterior probabilities: probability of my hypotheses knowing I rolled an 6\n",
      "\n",
      "4 0.0\n",
      "6 0.392156862745\n",
      "8 0.294117647059\n",
      "12 0.196078431373\n",
      "20 0.117647058824\n"
     ]
    }
   ],
   "source": [
    "import pandas as pd\n",
    "data = 6\n",
    "v = dice.Dice([4, 6, 8, 12, 20])\n",
    "u = dice.Dice([4, 6, 8, 12, 20])\n",
    "print(\"Hypotheses and priors\")\n",
    "print(u.d)\n",
    "tmp = []\n",
    "for hypo in u.Values():\n",
    "    like = u.Likelihood(data, hypo)\n",
    "    print(\"\\n\")\n",
    "    print(\"If I rolled a \"+repr(hypo)+\"-sided die, how does my prior probability change if I roll an \"+repr(data)+\"?\")\n",
    "    print(u.d.get(hypo, 0) * like)\n",
    "    tmp.append(u.d.get(hypo, 0) * like)\n",
    "print('\\n')\n",
    "print('Make sure the probabilities sum up to 1 to be probabilities by definition!')\n",
    "print('\\n')\n",
    "print('Sum of probabilities: '+repr(sum(tmp)))\n",
    "print('\\n')\n",
    "print('Divide each probability by sum')\n",
    "print(\"\\n\")\n",
    "tmp2 = []\n",
    "for t in tmp:\n",
    "    tmp2.append(t / sum(tmp))\n",
    "print(pd.Series(tmp2,index=hypos))\n",
    "v.Update(6)\n",
    "print('\\nPosterior probabilities: probability of my hypotheses knowing I rolled an 6\\n')\n",
    "v.Print()"
   ]
  },
  {
   "cell_type": "markdown",
   "metadata": {},
   "source": [
    "The take away from this is that the probability of the hypotheses given more data changes. But how is this done and how do we understand this? I'm going to do this example from scratch."
   ]
  },
  {
   "cell_type": "markdown",
   "metadata": {},
   "source": [
    "#### Set up\n",
    "\n",
    "Suppose I have a box of die that contains a 4-sided die, a 6-sided due, a 8-sided die, a 12-sided die, and a 20-sided die.\n",
    "\n",
    "Suppose I select a die from the box at random, roll it, and get a six. \n",
    "\n",
    "#### Question\n",
    "\n",
    "What is the probability that I rolled each die if I got a 6?\n",
    "\n",
    "The approach is to define my hypotheses, my data, and likelihood function.\n",
    "\n",
    "#### Hypothesis\n",
    "\n",
    "I rolled a 4, 6, 8, 12, or 20-sided die. For example, a 4-sided die is a hypothesis. You're are making a statement about the die you are rolling, which you want to test.\n",
    "\n",
    "Here, we have 5 hypotheses. \n",
    "\n",
    "We initially assume that there's an equally likely chance of rolling a 4-sided die, a 6-sided die, etc. \n",
    "\n",
    "This initial assumption is called our **prior**. Because each of the N = 5 hypotheses are equally likely, each has a probability of 1 / N or 0.2 chance of being rolled."
   ]
  },
  {
   "cell_type": "code",
   "execution_count": 41,
   "metadata": {
    "collapsed": false
   },
   "outputs": [
    {
     "name": "stdout",
     "output_type": "stream",
     "text": [
      "    H  P(H)\n",
      "0   4   0.2\n",
      "1   6   0.2\n",
      "2   8   0.2\n",
      "3  12   0.2\n",
      "4  20   0.2\n"
     ]
    }
   ],
   "source": [
    "hypos = [4,6,8,12,20]\n",
    "\n",
    "priors = [0.2]\n",
    "\n",
    "tmp = []\n",
    "for x in it.product(hypos,priors):\n",
    "    tmp.append(x)\n",
    "    \n",
    "print pd.DataFrame(tmp,columns=['H',\"P(H)\"])"
   ]
  },
  {
   "cell_type": "markdown",
   "metadata": {
    "collapsed": true
   },
   "source": [
    "Our data we have collected is a die roll that gives a 6"
   ]
  },
  {
   "cell_type": "code",
   "execution_count": 42,
   "metadata": {
    "collapsed": false
   },
   "outputs": [
    {
     "data": {
      "text/plain": [
       "[1, 2, 3, 4, 5, 6, 7, 8, 9, 10, 11, 12, 13, 14, 15, 16, 17, 18, 19, 20]"
      ]
     },
     "execution_count": 42,
     "metadata": {},
     "output_type": "execute_result"
    }
   ],
   "source": [
    "data = np.arange(1,21).tolist()\n",
    "data"
   ]
  },
  {
   "cell_type": "markdown",
   "metadata": {},
   "source": [
    "Let's make a dataframe that puts our hypotheses, priors and data all together. "
   ]
  },
  {
   "cell_type": "code",
   "execution_count": 43,
   "metadata": {
    "collapsed": false
   },
   "outputs": [
    {
     "name": "stdout",
     "output_type": "stream",
     "text": [
      "(100, 3)\n"
     ]
    },
    {
     "data": {
      "text/html": [
       "<div>\n",
       "<style>\n",
       "    .dataframe thead tr:only-child th {\n",
       "        text-align: right;\n",
       "    }\n",
       "\n",
       "    .dataframe thead th {\n",
       "        text-align: left;\n",
       "    }\n",
       "\n",
       "    .dataframe tbody tr th {\n",
       "        vertical-align: top;\n",
       "    }\n",
       "</style>\n",
       "<table border=\"1\" class=\"dataframe\">\n",
       "  <thead>\n",
       "    <tr style=\"text-align: right;\">\n",
       "      <th></th>\n",
       "      <th>H</th>\n",
       "      <th>P(H)</th>\n",
       "      <th>D</th>\n",
       "    </tr>\n",
       "  </thead>\n",
       "  <tbody>\n",
       "    <tr>\n",
       "      <th>0</th>\n",
       "      <td>4</td>\n",
       "      <td>0.2</td>\n",
       "      <td>1</td>\n",
       "    </tr>\n",
       "    <tr>\n",
       "      <th>1</th>\n",
       "      <td>4</td>\n",
       "      <td>0.2</td>\n",
       "      <td>2</td>\n",
       "    </tr>\n",
       "    <tr>\n",
       "      <th>2</th>\n",
       "      <td>4</td>\n",
       "      <td>0.2</td>\n",
       "      <td>3</td>\n",
       "    </tr>\n",
       "    <tr>\n",
       "      <th>3</th>\n",
       "      <td>4</td>\n",
       "      <td>0.2</td>\n",
       "      <td>4</td>\n",
       "    </tr>\n",
       "    <tr>\n",
       "      <th>4</th>\n",
       "      <td>4</td>\n",
       "      <td>0.2</td>\n",
       "      <td>5</td>\n",
       "    </tr>\n",
       "  </tbody>\n",
       "</table>\n",
       "</div>"
      ],
      "text/plain": [
       "   H  P(H)  D\n",
       "0  4   0.2  1\n",
       "1  4   0.2  2\n",
       "2  4   0.2  3\n",
       "3  4   0.2  4\n",
       "4  4   0.2  5"
      ]
     },
     "execution_count": 43,
     "metadata": {},
     "output_type": "execute_result"
    }
   ],
   "source": [
    "lstoflsts = []\n",
    "\n",
    "for hypo in hypos:\n",
    "    for prior in priors:\n",
    "        for d in data:\n",
    "            lst = [hypo,prior,d]\n",
    "            lstoflsts.append(lst)\n",
    "            \n",
    "df = pd.DataFrame(lstoflsts,columns=['H','P(H)','D'])\n",
    "print df.shape\n",
    "df.head()"
   ]
  },
  {
   "cell_type": "markdown",
   "metadata": {},
   "source": [
    "I can also calculate the probability of my data, which is just 1/N where N is the length of my data."
   ]
  },
  {
   "cell_type": "code",
   "execution_count": 44,
   "metadata": {
    "collapsed": false
   },
   "outputs": [
    {
     "data": {
      "text/plain": [
       "0"
      ]
     },
     "execution_count": 44,
     "metadata": {},
     "output_type": "execute_result"
    }
   ],
   "source": [
    "np.repeat((1 / len(data)),len(df['D']))\n",
    "1/20"
   ]
  },
  {
   "cell_type": "markdown",
   "metadata": {},
   "source": [
    "The question is, for the data I've collected, what is the probability of rolling each die?\n",
    "\n",
    "To determine the probability, I need to calculuate the likelihood.\n",
    "\n",
    "The likelihood is just the raw frequency of occurrence.\n",
    "\n",
    "For example, the likelihood of rolling a 3 from a 6 sided die is 1/6, 1/8 from a 8 sided die, and so on. \n",
    "\n",
    "Let's add the likelihood of the data given the hypotheses to our dataframe."
   ]
  },
  {
   "cell_type": "code",
   "execution_count": 24,
   "metadata": {
    "collapsed": false
   },
   "outputs": [
    {
     "data": {
      "text/html": [
       "<div>\n",
       "<style>\n",
       "    .dataframe thead tr:only-child th {\n",
       "        text-align: right;\n",
       "    }\n",
       "\n",
       "    .dataframe thead th {\n",
       "        text-align: left;\n",
       "    }\n",
       "\n",
       "    .dataframe tbody tr th {\n",
       "        vertical-align: top;\n",
       "    }\n",
       "</style>\n",
       "<table border=\"1\" class=\"dataframe\">\n",
       "  <thead>\n",
       "    <tr style=\"text-align: right;\">\n",
       "      <th></th>\n",
       "      <th>H</th>\n",
       "      <th>P(H)</th>\n",
       "      <th>D</th>\n",
       "      <th>P(D)</th>\n",
       "      <th>P(D|H)</th>\n",
       "    </tr>\n",
       "  </thead>\n",
       "  <tbody>\n",
       "    <tr>\n",
       "      <th>0</th>\n",
       "      <td>4</td>\n",
       "      <td>0.2</td>\n",
       "      <td>1</td>\n",
       "      <td>0.05</td>\n",
       "      <td>0.25</td>\n",
       "    </tr>\n",
       "    <tr>\n",
       "      <th>1</th>\n",
       "      <td>4</td>\n",
       "      <td>0.2</td>\n",
       "      <td>2</td>\n",
       "      <td>0.10</td>\n",
       "      <td>0.25</td>\n",
       "    </tr>\n",
       "    <tr>\n",
       "      <th>2</th>\n",
       "      <td>4</td>\n",
       "      <td>0.2</td>\n",
       "      <td>3</td>\n",
       "      <td>0.15</td>\n",
       "      <td>0.25</td>\n",
       "    </tr>\n",
       "    <tr>\n",
       "      <th>3</th>\n",
       "      <td>4</td>\n",
       "      <td>0.2</td>\n",
       "      <td>4</td>\n",
       "      <td>0.20</td>\n",
       "      <td>0.25</td>\n",
       "    </tr>\n",
       "    <tr>\n",
       "      <th>4</th>\n",
       "      <td>4</td>\n",
       "      <td>0.2</td>\n",
       "      <td>5</td>\n",
       "      <td>0.25</td>\n",
       "      <td>0.00</td>\n",
       "    </tr>\n",
       "  </tbody>\n",
       "</table>\n",
       "</div>"
      ],
      "text/plain": [
       "   H  P(H)  D  P(D)  P(D|H)\n",
       "0  4   0.2  1  0.05    0.25\n",
       "1  4   0.2  2  0.10    0.25\n",
       "2  4   0.2  3  0.15    0.25\n",
       "3  4   0.2  4  0.20    0.25\n",
       "4  4   0.2  5  0.25    0.00"
      ]
     },
     "execution_count": 24,
     "metadata": {},
     "output_type": "execute_result"
    }
   ],
   "source": [
    "likelihood = []\n",
    "df2 = df.copy()\n",
    "for i in range(df.shape[0]):\n",
    "    h = df.iloc[i]['H']\n",
    "    d = df.iloc[i]['D']\n",
    "    if h < d:\n",
    "        likelihood.append(0)\n",
    "    if h >= d:\n",
    "        p = df.iloc[i]['P(H)']\n",
    "        likelihood.append(1.0/h)\n",
    "\n",
    "df2['P(D|H)'] = likelihood\n",
    "df2.head()"
   ]
  },
  {
   "cell_type": "markdown",
   "metadata": {},
   "source": [
    "Now we can derive what is the probability of the hypotheses given the data we observe. This is our **posterior**. You can think of this value as an _update_ to our prior. Our prior assigned a probability to each hypothesis being true, but was very generic. Our _posterior_ gives a better value for the hypothesis because it's influenced by what we actually observe."
   ]
  },
  {
   "cell_type": "code",
   "execution_count": 26,
   "metadata": {
    "collapsed": false
   },
   "outputs": [
    {
     "data": {
      "text/html": [
       "<div>\n",
       "<style>\n",
       "    .dataframe thead tr:only-child th {\n",
       "        text-align: right;\n",
       "    }\n",
       "\n",
       "    .dataframe thead th {\n",
       "        text-align: left;\n",
       "    }\n",
       "\n",
       "    .dataframe tbody tr th {\n",
       "        vertical-align: top;\n",
       "    }\n",
       "</style>\n",
       "<table border=\"1\" class=\"dataframe\">\n",
       "  <thead>\n",
       "    <tr style=\"text-align: right;\">\n",
       "      <th></th>\n",
       "      <th>H</th>\n",
       "      <th>P(H)</th>\n",
       "      <th>D</th>\n",
       "      <th>P(D)</th>\n",
       "      <th>P(D|H)</th>\n",
       "      <th>P(H|D)</th>\n",
       "    </tr>\n",
       "  </thead>\n",
       "  <tbody>\n",
       "    <tr>\n",
       "      <th>0</th>\n",
       "      <td>4</td>\n",
       "      <td>0.2</td>\n",
       "      <td>1</td>\n",
       "      <td>0.05</td>\n",
       "      <td>0.25</td>\n",
       "      <td>0.05</td>\n",
       "    </tr>\n",
       "    <tr>\n",
       "      <th>1</th>\n",
       "      <td>4</td>\n",
       "      <td>0.2</td>\n",
       "      <td>2</td>\n",
       "      <td>0.10</td>\n",
       "      <td>0.25</td>\n",
       "      <td>0.05</td>\n",
       "    </tr>\n",
       "    <tr>\n",
       "      <th>2</th>\n",
       "      <td>4</td>\n",
       "      <td>0.2</td>\n",
       "      <td>3</td>\n",
       "      <td>0.15</td>\n",
       "      <td>0.25</td>\n",
       "      <td>0.05</td>\n",
       "    </tr>\n",
       "    <tr>\n",
       "      <th>3</th>\n",
       "      <td>4</td>\n",
       "      <td>0.2</td>\n",
       "      <td>4</td>\n",
       "      <td>0.20</td>\n",
       "      <td>0.25</td>\n",
       "      <td>0.05</td>\n",
       "    </tr>\n",
       "    <tr>\n",
       "      <th>4</th>\n",
       "      <td>4</td>\n",
       "      <td>0.2</td>\n",
       "      <td>5</td>\n",
       "      <td>0.25</td>\n",
       "      <td>0.00</td>\n",
       "      <td>0.00</td>\n",
       "    </tr>\n",
       "  </tbody>\n",
       "</table>\n",
       "</div>"
      ],
      "text/plain": [
       "   H  P(H)  D  P(D)  P(D|H)  P(H|D)\n",
       "0  4   0.2  1  0.05    0.25    0.05\n",
       "1  4   0.2  2  0.10    0.25    0.05\n",
       "2  4   0.2  3  0.15    0.25    0.05\n",
       "3  4   0.2  4  0.20    0.25    0.05\n",
       "4  4   0.2  5  0.25    0.00    0.00"
      ]
     },
     "execution_count": 26,
     "metadata": {},
     "output_type": "execute_result"
    }
   ],
   "source": [
    "num = (df2['P(H)'].values * df2['P(D|H)'].values)\n",
    "denom = df2['P(D)']\n",
    "posterior = num \n",
    "df2['P(H|D)'] = posterior.tolist()\n",
    "df2.head()"
   ]
  },
  {
   "cell_type": "markdown",
   "metadata": {},
   "source": [
    "Back to the original question, for getting a 6, what is the probability that I rolled a 4, 6, 8, 12, or 20 sided die?"
   ]
  },
  {
   "cell_type": "code",
   "execution_count": 10,
   "metadata": {
    "collapsed": false
   },
   "outputs": [
    {
     "data": {
      "text/html": [
       "<div>\n",
       "<style>\n",
       "    .dataframe thead tr:only-child th {\n",
       "        text-align: right;\n",
       "    }\n",
       "\n",
       "    .dataframe thead th {\n",
       "        text-align: left;\n",
       "    }\n",
       "\n",
       "    .dataframe tbody tr th {\n",
       "        vertical-align: top;\n",
       "    }\n",
       "</style>\n",
       "<table border=\"1\" class=\"dataframe\">\n",
       "  <thead>\n",
       "    <tr style=\"text-align: right;\">\n",
       "      <th></th>\n",
       "      <th>H</th>\n",
       "      <th>P(H)</th>\n",
       "      <th>D</th>\n",
       "      <th>P(D)</th>\n",
       "      <th>P(D|H)</th>\n",
       "      <th>P(H|D)</th>\n",
       "    </tr>\n",
       "  </thead>\n",
       "  <tbody>\n",
       "    <tr>\n",
       "      <th>5</th>\n",
       "      <td>4</td>\n",
       "      <td>0.2</td>\n",
       "      <td>6</td>\n",
       "      <td>0.05</td>\n",
       "      <td>0.000000</td>\n",
       "      <td>0.000000</td>\n",
       "    </tr>\n",
       "    <tr>\n",
       "      <th>25</th>\n",
       "      <td>6</td>\n",
       "      <td>0.2</td>\n",
       "      <td>6</td>\n",
       "      <td>0.05</td>\n",
       "      <td>0.166667</td>\n",
       "      <td>0.666667</td>\n",
       "    </tr>\n",
       "    <tr>\n",
       "      <th>45</th>\n",
       "      <td>8</td>\n",
       "      <td>0.2</td>\n",
       "      <td>6</td>\n",
       "      <td>0.05</td>\n",
       "      <td>0.125000</td>\n",
       "      <td>0.500000</td>\n",
       "    </tr>\n",
       "    <tr>\n",
       "      <th>65</th>\n",
       "      <td>12</td>\n",
       "      <td>0.2</td>\n",
       "      <td>6</td>\n",
       "      <td>0.05</td>\n",
       "      <td>0.083333</td>\n",
       "      <td>0.333333</td>\n",
       "    </tr>\n",
       "    <tr>\n",
       "      <th>85</th>\n",
       "      <td>20</td>\n",
       "      <td>0.2</td>\n",
       "      <td>6</td>\n",
       "      <td>0.05</td>\n",
       "      <td>0.050000</td>\n",
       "      <td>0.200000</td>\n",
       "    </tr>\n",
       "  </tbody>\n",
       "</table>\n",
       "</div>"
      ],
      "text/plain": [
       "     H  P(H)  D  P(D)    P(D|H)    P(H|D)\n",
       "5    4   0.2  6  0.05  0.000000  0.000000\n",
       "25   6   0.2  6  0.05  0.166667  0.666667\n",
       "45   8   0.2  6  0.05  0.125000  0.500000\n",
       "65  12   0.2  6  0.05  0.083333  0.333333\n",
       "85  20   0.2  6  0.05  0.050000  0.200000"
      ]
     },
     "execution_count": 10,
     "metadata": {},
     "output_type": "execute_result"
    }
   ],
   "source": [
    "df2.query(' D == 6 ')"
   ]
  },
  {
   "cell_type": "markdown",
   "metadata": {},
   "source": [
    "You can see how the prior, P(H), changed to the posterior, P(H|D). "
   ]
  },
  {
   "cell_type": "code",
   "execution_count": null,
   "metadata": {
    "collapsed": true
   },
   "outputs": [],
   "source": []
  }
 ],
 "metadata": {
  "kernelspec": {
   "display_name": "Python [conda env:py2.7]",
   "language": "python",
   "name": "conda-env-py2.7-py"
  },
  "language_info": {
   "codemirror_mode": {
    "name": "ipython",
    "version": 2
   },
   "file_extension": ".py",
   "mimetype": "text/x-python",
   "name": "python",
   "nbconvert_exporter": "python",
   "pygments_lexer": "ipython2",
   "version": "2.7.13"
  }
 },
 "nbformat": 4,
 "nbformat_minor": 1
}
