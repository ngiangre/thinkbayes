{
 "cells": [
  {
   "cell_type": "markdown",
   "metadata": {},
   "source": [
    "# Practing with _Think Bayes_ by Allen Downey\n",
    "\n",
    "Using examples from the book, I break them down into digestable, transparent stories to fully understand bayesian thinking and analysis."
   ]
  },
  {
   "cell_type": "code",
   "execution_count": 1,
   "metadata": {
    "collapsed": false
   },
   "outputs": [],
   "source": [
    "def import_file(full_path_to_module):\n",
    "    try:\n",
    "        import os\n",
    "        module_dir, module_file = os.path.split(full_path_to_module)\n",
    "        module_name, module_ext = os.path.splitext(module_file)\n",
    "        save_cwd = os.getcwd()\n",
    "        os.chdir(module_dir)\n",
    "        module_obj = __import__(module_name)\n",
    "        module_obj.__file__ = full_path_to_module\n",
    "        globals()[module_name] = module_obj\n",
    "        os.chdir(save_cwd)\n",
    "    except:\n",
    "        raise ImportError\n",
    "\n",
    "import_file('/Users/nickgiangreco/gmail_dropbox/Dropbox/thinkbayes/ThinkBayes-master/code/thinkbayes.py')\n",
    "\n",
    "import thinkbayes\n",
    "import matplotlib.pyplot as plt"
   ]
  },
  {
   "cell_type": "markdown",
   "metadata": {},
   "source": [
    "## The dice problem"
   ]
  },
  {
   "cell_type": "code",
   "execution_count": 39,
   "metadata": {
    "collapsed": true
   },
   "outputs": [],
   "source": [
    "import_file('/Users/nickgiangreco/gmail_dropbox/Dropbox/thinkbayes/ThinkBayes-master/code/dice.py')\n",
    "import pandas as pd\n",
    "import numpy as np\n",
    "import itertools as it"
   ]
  },
  {
   "cell_type": "markdown",
   "metadata": {},
   "source": [
    "In the book, the main output for this problem is"
   ]
  },
  {
   "cell_type": "code",
   "execution_count": 48,
   "metadata": {
    "collapsed": false
   },
   "outputs": [
    {
     "name": "stdout",
     "output_type": "stream",
     "text": [
      "After one 6\n",
      "4 0.0\n",
      "6 0.392156862745\n",
      "8 0.294117647059\n",
      "12 0.196078431373\n",
      "20 0.117647058824\n",
      "After more rolls\n",
      "4 0.0\n",
      "6 0.0\n",
      "8 0.915845271969\n",
      "12 0.080403425797\n",
      "20 0.00375130223399\n"
     ]
    }
   ],
   "source": [
    "import_file('/Users/nickgiangreco/gmail_dropbox/Dropbox/thinkbayes/ThinkBayes-master/code/dice.py')\n",
    "\n",
    "dice.main()"
   ]
  },
  {
   "cell_type": "markdown",
   "metadata": {},
   "source": [
    "The take away from this is that the probability of the hypotheses given more data changes. But how is this done and how do we understand this? I'm going to do this example from scratch."
   ]
  },
  {
   "cell_type": "markdown",
   "metadata": {},
   "source": [
    "Suppose I have a box of die that contains a 4-sided die, a 6-sided due, a 8-sided die, a 12-sided die, and a 20-sided die.\n",
    "\n",
    "Suppose I select a die from the box at random, roll it, and get a six. \n",
    "\n",
    "#### Question\n",
    "\n",
    "What is the probability that I rolled each die?\n",
    "\n",
    "The approach is to define my hypotheses, my data, and likelihood function.\n",
    "\n",
    "#### Hypothesis\n",
    "\n",
    "Each die. For example, a 4-sided die is a hypothesis. You're are making a statement about the die you are rolling, which you want to test.\n",
    "\n",
    "Here, we have 5 hypotheses. \n",
    "\n",
    "We initially assume that there's an equally likely chance of rolling a 4-sided die, a 6-sided die, etc. \n",
    "\n",
    "This initial assumption is called our **prior**. Because each of the N = 5 hypotheses are equally likely, each has a probability of 1 / N or 0.2 chance of being rolled."
   ]
  },
  {
   "cell_type": "code",
   "execution_count": 22,
   "metadata": {
    "collapsed": false
   },
   "outputs": [
    {
     "name": "stdout",
     "output_type": "stream",
     "text": [
      "    H  P(H)\n",
      "0   8   0.2\n",
      "1  12   0.2\n",
      "2   4   0.2\n",
      "3   6   0.2\n",
      "4  20   0.2\n"
     ]
    }
   ],
   "source": [
    "hypos = [4,6,8,12,20]\n",
    "\n",
    "prior = [0.2]\n",
    "\n",
    "tmp = []\n",
    "for x in it.product(prior,hypos):\n",
    "    tmp.append(x)\n",
    "    \n",
    "print pd.DataFrame(tmp, columns = ['H','P(H)'])"
   ]
  },
  {
   "cell_type": "markdown",
   "metadata": {
    "collapsed": true
   },
   "source": [
    "Let's say that the data we have collected is 20 die rolls ranging from 1 to 20"
   ]
  },
  {
   "cell_type": "code",
   "execution_count": 18,
   "metadata": {
    "collapsed": false
   },
   "outputs": [
    {
     "data": {
      "text/plain": [
       "[1, 2, 3, 4, 5, 6, 7, 8, 9, 10, 11, 12, 13, 14, 15, 16, 17, 18, 19, 20]"
      ]
     },
     "execution_count": 18,
     "metadata": {},
     "output_type": "execute_result"
    }
   ],
   "source": [
    "data = np.arange(1,21).tolist()\n",
    "data"
   ]
  },
  {
   "cell_type": "markdown",
   "metadata": {},
   "source": [
    "Let's add the data to our dataframe"
   ]
  },
  {
   "cell_type": "code",
   "execution_count": null,
   "metadata": {
    "collapsed": true
   },
   "outputs": [],
   "source": []
  },
  {
   "cell_type": "markdown",
   "metadata": {},
   "source": [
    "The question is, for the data I've collected, what is the probability of rolling each die?\n",
    "\n",
    "To determine the probability, I need to calculuate the likelihood.\n",
    "\n",
    "The likelihood is just the raw frequency of occurrence.\n",
    "\n",
    "For example, the likelihood of rolling a 3 from a 6 sided die is 1/6, 1/8 from a 8 sided die, and so on. \n",
    "\n",
    "Let's add the likelihood of the data given the hypotheses to our dataframe."
   ]
  }
 ],
 "metadata": {
  "kernelspec": {
   "display_name": "Python [conda env:py2.7]",
   "language": "python",
   "name": "conda-env-py2.7-py"
  },
  "language_info": {
   "codemirror_mode": {
    "name": "ipython",
    "version": 2
   },
   "file_extension": ".py",
   "mimetype": "text/x-python",
   "name": "python",
   "nbconvert_exporter": "python",
   "pygments_lexer": "ipython2",
   "version": "2.7.13"
  }
 },
 "nbformat": 4,
 "nbformat_minor": 1
}
